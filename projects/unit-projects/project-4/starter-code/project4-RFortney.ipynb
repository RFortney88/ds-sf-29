{
 "cells": [
  {
   "cell_type": "markdown",
   "metadata": {},
   "source": [
    "# Project 4\n",
    "\n",
    "In this project, you will summarize and present your analysis from Projects 1-3."
   ]
  },
  {
   "cell_type": "markdown",
   "metadata": {},
   "source": [
    "### Intro: Write a problem Statement/ Specific Aim for this project"
   ]
  },
  {
   "cell_type": "markdown",
   "metadata": {},
   "source": [
    "Answer: There are numerous factors in the admission chances for graduate program applicants, and it would benefict both these applicants and the institutions to which they are applying to better understand these factors.  Utilizing existing data, we can accurately measure the impact that GPA, GRE score, and the prestige of undergraduate institutions will have on the likelihood of admission."
   ]
  },
  {
   "cell_type": "markdown",
   "metadata": {},
   "source": [
    "### Dataset:  Write up a description of your data and any cleaning that was completed"
   ]
  },
  {
   "cell_type": "markdown",
   "metadata": {},
   "source": [
    "Answer: The dataset utilized is from admissions records at UCLA - it includes three primary input variables: GPA, GRE, an prestige rank.  The prestige rank is itself a tiered score from 1-4, a score of 1 representing the most prestigous undergraduate schools and a score of 4 representing the least prestigous schools.  \n",
    "\n",
    "Upon initial examination of the data, we counted 400 individual student records.  There were a few missing items across GPA, GRE or prestige, and to protect the overall integrity of our dataset, these records were removed, leaving a count of 397 records.  \n",
    "\n",
    "We then conducted initial evaluations of the input variables themselves.  Both GRE scores and GPA were seen to skew to the right, or towards higher scores.  This was not entirely surprising as applicants for graduate programs are likely to be students who were successful in their respective undegraduate programs, and who believe they have a reasonable chance of admission to a more selective school such as UCLA.  \n",
    "\n"
   ]
  },
  {
   "cell_type": "markdown",
   "metadata": {
    "collapsed": true
   },
   "source": [
    "### Demo: Provide a table that explains the data by admission status"
   ]
  },
  {
   "cell_type": "markdown",
   "metadata": {},
   "source": [
    "Mean (STD) or counts by admission status for each variable \n",
    "\n",
    "| Not Admitted | Admitted\n",
    "---| ---|---\n",
    "GPA | 3.34 (0.37)  | 3.39 (0.38)\n",
    "GRE | 573 (116) | 587 (115)\n",
    "Prestige 1 | 28 (45.9%) | 33 (54.1%)\n",
    "Prestige 2 | 95 (64.1%) | 53 (35.8%)\n",
    "Prestige 3 | 93 (76.8%) | 28 (23.1%)\n",
    "Prestige 4 | 55 (72.3%) | 12 (15.7%)"
   ]
  },
  {
   "cell_type": "markdown",
   "metadata": {},
   "source": [
    "### Methods: Write up the methods used in your analysis"
   ]
  },
  {
   "cell_type": "markdown",
   "metadata": {},
   "source": [
    "Answer: Following an exploratory analysis, I was able to do a more thorough analysis of the individual input variables and determine the impact they were each having.  GPA and GRE were discovered to be relatively colinear - a student with a high GPA was likely to have a high GRE score, although there was a higher variance among GRE scores than GPA.\n",
    "\n",
    "Prestige scores were then stratified and treated as simple yes/no categories (dummy variables) rather than as a scaled score.  Each student's overall likelihood of admission was thus scored first by their undergraduate prestige, and then GPA and GRE were factored in as secondary variables.  "
   ]
  },
  {
   "cell_type": "markdown",
   "metadata": {},
   "source": [
    "### Results: Write up your results"
   ]
  },
  {
   "cell_type": "markdown",
   "metadata": {},
   "source": [
    "Answer: It is clear that undergraduate prestige plays the biggest part in determining the admission likelihood of a given applicant.  Prestige 1 applicants, while a smaller group, were actually more likely to be admitted than rejected, with 54% receiving admission.  \n",
    "\n",
    "GPA and GRE scores, while clearly important, do not vary as much as one might expect across the two groups.  This lines up with our exploratory analysis which indicated that both GPA and GRE are scored more heavily towards the right, or torward higher scores.\n",
    "\n",
    "Put more directly, simply being a good student is considered a basic requirement to admission rather than a deciding factor.  Virtually every applicant could boast to having a strong GPA and GRE, and it was their undergraduate prestige that tipped the scales in their favor."
   ]
  },
  {
   "cell_type": "markdown",
   "metadata": {},
   "source": [
    "### Visuals: Provide a table or visualization of these results"
   ]
  },
  {
   "cell_type": "code",
   "execution_count": 2,
   "metadata": {
    "collapsed": true
   },
   "outputs": [],
   "source": [
    "import pandas as pd\n",
    "import numpy as np\n",
    "import matplotlib.pyplot as plt\n",
    "%matplotlib inline"
   ]
  },
  {
   "cell_type": "code",
   "execution_count": 3,
   "metadata": {
    "collapsed": false
   },
   "outputs": [],
   "source": [
    "df_raw = pd.read_csv(\"../assets/admissions.csv\")"
   ]
  },
  {
   "cell_type": "code",
   "execution_count": 4,
   "metadata": {
    "collapsed": false
   },
   "outputs": [],
   "source": [
    "df_clean = df_raw.dropna()"
   ]
  },
  {
   "cell_type": "code",
   "execution_count": 5,
   "metadata": {
    "collapsed": true
   },
   "outputs": [],
   "source": [
    "df_adm_yes = df_clean[\"admit\"] == 1\n",
    "df_admitted = df_clean[df_adm_yes]\n",
    "df_adm_no = df_clean[\"admit\"] == 0\n",
    "df_not_admitted = df_clean[df_adm_no]"
   ]
  },
  {
   "cell_type": "code",
   "execution_count": 6,
   "metadata": {
    "collapsed": false
   },
   "outputs": [],
   "source": [
    "adm_count = df_admitted.count()\n",
    "no_adm_count = df_not_admitted.count()"
   ]
  },
  {
   "cell_type": "code",
   "execution_count": 7,
   "metadata": {
    "collapsed": false
   },
   "outputs": [
    {
     "data": {
      "text/html": [
       "<div>\n",
       "<table border=\"1\" class=\"dataframe\">\n",
       "  <thead>\n",
       "    <tr style=\"text-align: right;\">\n",
       "      <th></th>\n",
       "      <th>admit</th>\n",
       "      <th>gre</th>\n",
       "      <th>gpa</th>\n",
       "      <th>prestige</th>\n",
       "    </tr>\n",
       "  </thead>\n",
       "  <tbody>\n",
       "    <tr>\n",
       "      <th>1</th>\n",
       "      <td>1</td>\n",
       "      <td>660.0</td>\n",
       "      <td>3.67</td>\n",
       "      <td>3.0</td>\n",
       "    </tr>\n",
       "    <tr>\n",
       "      <th>2</th>\n",
       "      <td>1</td>\n",
       "      <td>800.0</td>\n",
       "      <td>4.00</td>\n",
       "      <td>1.0</td>\n",
       "    </tr>\n",
       "    <tr>\n",
       "      <th>3</th>\n",
       "      <td>1</td>\n",
       "      <td>640.0</td>\n",
       "      <td>3.19</td>\n",
       "      <td>4.0</td>\n",
       "    </tr>\n",
       "    <tr>\n",
       "      <th>5</th>\n",
       "      <td>1</td>\n",
       "      <td>760.0</td>\n",
       "      <td>3.00</td>\n",
       "      <td>2.0</td>\n",
       "    </tr>\n",
       "    <tr>\n",
       "      <th>6</th>\n",
       "      <td>1</td>\n",
       "      <td>560.0</td>\n",
       "      <td>2.98</td>\n",
       "      <td>1.0</td>\n",
       "    </tr>\n",
       "  </tbody>\n",
       "</table>\n",
       "</div>"
      ],
      "text/plain": [
       "   admit    gre   gpa  prestige\n",
       "1      1  660.0  3.67       3.0\n",
       "2      1  800.0  4.00       1.0\n",
       "3      1  640.0  3.19       4.0\n",
       "5      1  760.0  3.00       2.0\n",
       "6      1  560.0  2.98       1.0"
      ]
     },
     "execution_count": 7,
     "metadata": {},
     "output_type": "execute_result"
    }
   ],
   "source": [
    "df_admitted.head()"
   ]
  },
  {
   "cell_type": "code",
   "execution_count": 8,
   "metadata": {
    "collapsed": false
   },
   "outputs": [
    {
     "data": {
      "text/plain": [
       "<matplotlib.axes._subplots.AxesSubplot at 0x1179f3b10>"
      ]
     },
     "execution_count": 8,
     "metadata": {},
     "output_type": "execute_result"
    },
    {
     "data": {
      "image/png": "[encoded data removed]",
      "text/plain": [
       "<matplotlib.figure.Figure at 0x1179f3690>"
      ]
     },
     "metadata": {},
     "output_type": "display_data"
    }
   ],
   "source": [
    "df_not_admitted['prestige'].hist()"
   ]
  },
  {
   "cell_type": "markdown",
   "metadata": {},
   "source": [
    "In the above histograms, we compare the prestige ranks of those who were admitted and those who were not.  There is a clear skew towards the higher prestige ranks in the case of applicants who were admitted."
   ]
  },
  {
   "cell_type": "markdown",
   "metadata": {},
   "source": [
    "### Discussion: Write up your discussion and future steps"
   ]
  },
  {
   "cell_type": "markdown",
   "metadata": {},
   "source": [
    "Answer: This study suggests that the role of undergraduate prestige in graduate program admission plays a larger role than previously thought.  More individual factors such as a students own score on the GRE or their accomplished GPA seem to be less important that the scored status of the undergraduate institute.  This leads to the question of how the relative 'prestige' of undergraduate schools is determined and if this indeed a fair metric in graduate program admission.  \n",
    "\n",
    "Applicants, in turn, may need to consider that their GPA and GRE must often times be higher to counteract a perceived 'low prestige' college or university. "
   ]
  },
  {
   "cell_type": "code",
   "execution_count": null,
   "metadata": {
    "collapsed": true
   },
   "outputs": [],
   "source": []
  }
 ],
 "metadata": {
  "anaconda-cloud": {},
  "kernelspec": {
   "display_name": "Python [Root]",
   "language": "python",
   "name": "Python [Root]"
  },
  "language_info": {
   "codemirror_mode": {
    "name": "ipython",
    "version": 2
   },
   "file_extension": ".py",
   "mimetype": "text/x-python",
   "name": "python",
   "nbconvert_exporter": "python",
   "pygments_lexer": "ipython2",
   "version": "2.7.12"
  }
 },
 "nbformat": 4,
 "nbformat_minor": 0
}
