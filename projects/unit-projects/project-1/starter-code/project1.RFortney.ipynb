{
 "cells": [
  {
   "cell_type": "markdown",
   "metadata": {},
   "source": [
    "# Project 1\n",
    "\n",
    "In this first project you will create a framework to scope out data science projects. This framework will provide you with a guide to develop a well-articulated problem statement and analysis plan that will be robust and reproducible."
   ]
  },
  {
   "cell_type": "markdown",
   "metadata": {},
   "source": [
    "### Read and evaluate the following problem statement: \n",
    "Determine which free-tier customers will convert to paying customers, using demographic data collected at signup (age, gender, location, and profession) and customer usage data (days since last log in, and activity score 1 = active user, 0= inactive user) based on Hooli data from Jan-Apr 2015. \n"
   ]
  },
  {
   "cell_type": "markdown",
   "metadata": {},
   "source": [
    "#### 1. What is the outcome?"
   ]
  },
  {
   "cell_type": "markdown",
   "metadata": {},
   "source": [
    "Answer: Paying customer tier indicator (yes/no)"
   ]
  },
  {
   "cell_type": "markdown",
   "metadata": {},
   "source": [
    "#### 2. What are the predictors/covariates? "
   ]
  },
  {
   "cell_type": "markdown",
   "metadata": {},
   "source": [
    "Answer: Demographics, days since last log in, activity score."
   ]
  },
  {
   "cell_type": "markdown",
   "metadata": {},
   "source": [
    "#### 3. What timeframe is this data relevent for?"
   ]
  },
  {
   "cell_type": "markdown",
   "metadata": {},
   "source": [
    "Answer: Jan-Apr 2015"
   ]
  },
  {
   "cell_type": "markdown",
   "metadata": {},
   "source": [
    "#### 4. What is the hypothesis?"
   ]
  },
  {
   "cell_type": "markdown",
   "metadata": {},
   "source": [
    "Answer: Customer usage data, along with demographics, will allow us to predict if a free-tier customer will become a paying customer."
   ]
  },
  {
   "cell_type": "markdown",
   "metadata": {},
   "source": [
    "## Let's get started with our dataset"
   ]
  },
  {
   "cell_type": "markdown",
   "metadata": {},
   "source": [
    "#### 1. Create a data dictionary "
   ]
  },
  {
   "cell_type": "markdown",
   "metadata": {},
   "source": [
    "Answer: \n",
    "\n",
    "Variable | Description | Type of Variable\n",
    "---| ---| ---\n",
    "GPA | grade point average, float | continuous \n",
    "GRE | GRE test score, integer| continuous\n",
    "Admission | Whether or not student was admitted, 0/1 | categorical\n",
    "Prestige | Prestige rank of undergraduate school, rank of 1-4| categorical\n",
    "\n"
   ]
  },
  {
   "cell_type": "markdown",
   "metadata": {},
   "source": [
    "We would like to explore the relation between GPA, GRE, prestige, and how these impact the likelihood of admission."
   ]
  },
  {
   "cell_type": "markdown",
   "metadata": {},
   "source": [
    "#### 2. What is the outcome?"
   ]
  },
  {
   "cell_type": "markdown",
   "metadata": {},
   "source": [
    "How strongly GPA, GRE Score, and Prestige each impact the likelihood of admission."
   ]
  },
  {
   "cell_type": "markdown",
   "metadata": {},
   "source": [
    "#### 3. What are the predictors/covariates? "
   ]
  },
  {
   "cell_type": "markdown",
   "metadata": {},
   "source": [
    "GPA, GRE, and prestige are possible predictors of admission."
   ]
  },
  {
   "cell_type": "markdown",
   "metadata": {},
   "source": [
    "#### 4. What timeframe is this data relevent for?"
   ]
  },
  {
   "cell_type": "markdown",
   "metadata": {},
   "source": [
    "The timeframe when the information on these students was collected - it can be used for future analysis but only if we can confirm that this dataset is normal."
   ]
  },
  {
   "cell_type": "markdown",
   "metadata": {},
   "source": [
    "#### 4. What is the hypothesis?"
   ]
  },
  {
   "cell_type": "markdown",
   "metadata": {},
   "source": [
    "That our selected covariates - GPA, GRE, prestige, can predict admission."
   ]
  },
  {
   "cell_type": "markdown",
   "metadata": {},
   "source": [
    "    Using the above information, write a well-formed problem statement:\n",
    "    \n",
    "    Graduate programs are increasingly competitive, and students are constantly looking for ways to increase their own chances of being admitted.  At the same time, graduate programs are interested in analyzing their own student bodies for the purposes of increasing their own rankings and prestige on the academic stage.  Analyzing the factors behind successful admissions, we can more accurately determine what will enable students to gain entrance to a top graduate program.  This will aid undergraduate students in preparing to apply, and will help graduate programs determine what truly matters in an applicant.\n",
    "   "
   ]
  },
  {
   "cell_type": "markdown",
   "metadata": {},
   "source": [
    "## Problem Statement"
   ]
  },
  {
   "cell_type": "markdown",
   "metadata": {},
   "source": [
    "### Exploratory Analysis Plan"
   ]
  },
  {
   "cell_type": "markdown",
   "metadata": {},
   "source": [
    "Using the lab from a class as a guide, create an exploratory analysis plan. "
   ]
  },
  {
   "cell_type": "markdown",
   "metadata": {},
   "source": [
    "#### 1. What are the goals of the exploratory analysis? "
   ]
  },
  {
   "cell_type": "markdown",
   "metadata": {
    "collapsed": true
   },
   "source": [
    "Answer: Before we can conduct more conclusive testing, we need to determine the characteristics of the data set - if it is skewed by outliers, how normal the distribution is, and any initial results from the different variables.  This will allow us to avoid factors that might confound results of future analysis.    "
   ]
  },
  {
   "cell_type": "markdown",
   "metadata": {},
   "source": [
    "#### 2a. What are the assumptions of the distribution of data? "
   ]
  },
  {
   "cell_type": "markdown",
   "metadata": {},
   "source": [
    "Answer: That the data has been gathered accurately, has a normal distribution and a linear relationship.  This would be accomplished if the dataset was utilizing a large enough sample of prospective students and the identified variables have been clearly identified and measured.  For example, a consistent measurement of GPA, GRE, and a clear definition of how undergraduate prestige was defined and measured.  "
   ]
  },
  {
   "cell_type": "markdown",
   "metadata": {},
   "source": [
    "#### 2b. How will determine the distribution of your data? "
   ]
  },
  {
   "cell_type": "markdown",
   "metadata": {
    "collapsed": true
   },
   "source": [
    "Answer: Using python, we can conduct several statistical analysis tests which will allow us to measure factors such as variance and standard deviation.  These will allow us to in turn determine how normal the distribution of data is.  From there we can determine if this is an appropriate dataset to use with our problem statement."
   ]
  },
  {
   "cell_type": "markdown",
   "metadata": {},
   "source": [
    "#### 3a. How might outliers impact your analysis? "
   ]
  },
  {
   "cell_type": "markdown",
   "metadata": {
    "collapsed": true
   },
   "source": [
    "Answer: These will impact measurements like the mean and median, and can in turn lessen the relevance of regression or ANOVA because they will confound testing."
   ]
  },
  {
   "cell_type": "markdown",
   "metadata": {},
   "source": [
    "#### 3b. How will you test for outliers? "
   ]
  },
  {
   "cell_type": "markdown",
   "metadata": {},
   "source": [
    "Answer:  Exploratory analysis will provide clues as to the existence of outliers that are confounding our results.  Simple tests like identifying the min/max data points will also help with this, especially if one is especially far outside three standard deviations.  Comparing the mean and median is a quick but effective way to determine if any of the variables are being skewed in one direction.  Comparing this variance across the different variables will in turn reveal if there is a consistent skewing or if a single variable contains an outlier.   "
   ]
  },
  {
   "cell_type": "markdown",
   "metadata": {},
   "source": [
    "#### 4a. What is colinearity? "
   ]
  },
  {
   "cell_type": "markdown",
   "metadata": {
    "collapsed": true
   },
   "source": [
    "Answer: Collinearity is the correlation of two or more predictor variables.  In this case, an example would be if GRE and GPA were very highly correlated to the point that one could predict the other - it is possible we will see this occur in this dataset, as a student who has a very high GPA will likely perform well on the GRE, or vice versa.  This can be problematic for our problem statement because while our overall regression analysis may find a relationship between GPA + GRE, it would be very difficult to determine the individuals impacts of GPA or GRE, because they are closely entangled.  "
   ]
  },
  {
   "cell_type": "markdown",
   "metadata": {},
   "source": [
    "#### 4b. How will you test for colinearity? "
   ]
  },
  {
   "cell_type": "markdown",
   "metadata": {},
   "source": [
    "Answer: We can run a regression analysis between all of the predictor variables, excluding the y-variable we plan to compare them to (in this case, the admittance variable).  This will allow us to identify strong correlations between the predictor variables, thus suggesting collinearity.  Similarly, we should run an F-test.  If the regression coefficients for individual predictors are low, but still result in a significant regression when included together, this suggest collinearity.  \n",
    "\n"
   ]
  },
  {
   "cell_type": "markdown",
   "metadata": {},
   "source": [
    "#### 5. What is your exploratory analysis plan?\n",
    "Using the above information, write an exploratory analysis plan that would allow you or a colleague to reproduce your analysis 1 year from now. "
   ]
  },
  {
   "cell_type": "markdown",
   "metadata": {},
   "source": [
    "Answer: First, determine whether or not we are working with a normally distributed data range.  Next, identify outliers which may be skewing our data.  Finally, conduct an analysis to identify if our predictor variables are collinear.  In all three cases, carefully document the criteria established - what we consider a 'normal' range, what data points we consider outliers, and how we will work with variables determined to be collinear.  \n",
    "\n",
    "So long as these criteria are identical and used to apply the same framework to future analysis, the results of these analysis can be considered relevant.  From this standpoint we can conduct tests for the sake of our problem statement - determining the relevance of the predictor variables to our selected outcome."
   ]
  },
  {
   "cell_type": "markdown",
   "metadata": {},
   "source": [
    "## Bonus Questions:\n",
    "1. Outline your analysis method for predicting your outcome\n",
    "2. Write an alternative problem statement for your dataset\n",
    "3. Articulate the assumptions and risks of the alternative model"
   ]
  },
  {
   "cell_type": "markdown",
   "metadata": {
    "collapsed": true
   },
   "source": [
    "#### 1.  Analysis method"
   ]
  },
  {
   "cell_type": "markdown",
   "metadata": {},
   "source": [
    "Following the exploratory analysis plan, we should conduct a regression analysis and see which predictor variables stand out.  I would also plot each coefficient on a graph to better demonstrate how linear each one is in comparison to admission.  "
   ]
  },
  {
   "cell_type": "markdown",
   "metadata": {},
   "source": [
    "#### 2. Alternative problem statement"
   ]
  },
  {
   "cell_type": "markdown",
   "metadata": {},
   "source": [
    "Determine the extent to which GPA does not correlate with admissions - are applicants with high GPAs just as likely to be admitted as students with lower GPAs?  Does GRE have a larger impact or are they equal?"
   ]
  },
  {
   "cell_type": "markdown",
   "metadata": {},
   "source": [
    "#### 3. Assumptions and risks"
   ]
  },
  {
   "cell_type": "markdown",
   "metadata": {},
   "source": [
    "This assumes we have sufficient data to analyze for a more complicated conclusion such as this.  This could also involve a different process with the outliers, as students with low GPAs and high GREs are more likely to be counted and discarded as an outlier, while a more complicated problem statement such as \"GPAs are less relevant than GREs\" will require a more complicated analysis of these very datapoints."
   ]
  },
  {
   "cell_type": "code",
   "execution_count": null,
   "metadata": {
    "collapsed": true
   },
   "outputs": [],
   "source": []
  }
 ],
 "metadata": {
  "anaconda-cloud": {},
  "kernelspec": {
   "display_name": "Python [Root]",
   "language": "python",
   "name": "Python [Root]"
  },
  "language_info": {
   "codemirror_mode": {
    "name": "ipython",
    "version": 2
   },
   "file_extension": ".py",
   "mimetype": "text/x-python",
   "name": "python",
   "nbconvert_exporter": "python",
   "pygments_lexer": "ipython2",
   "version": "2.7.12"
  }
 },
 "nbformat": 4,
 "nbformat_minor": 0
}
