{
 "cells": [
  {
   "cell_type": "code",
   "execution_count": 2,
   "metadata": {
    "collapsed": true
   },
   "outputs": [],
   "source": [
    "import pandas as pd"
   ]
  },
  {
   "cell_type": "markdown",
   "metadata": {},
   "source": [
    "## Craft Beer Market Share - State Economic Indicators"
   ]
  },
  {
   "cell_type": "markdown",
   "metadata": {},
   "source": [
    "#### Ross Fortney - Data Science SF - 29"
   ]
  },
  {
   "cell_type": "markdown",
   "metadata": {},
   "source": [
    "##### Problem Statement"
   ]
  },
  {
   "cell_type": "markdown",
   "metadata": {},
   "source": [
    "The growth rate of craft beer for overall share of sales of beer has begun to slow down, despite ample room in the market and stable economic factors."
   ]
  },
  {
   "cell_type": "markdown",
   "metadata": {},
   "source": [
    "##### Hypothesis"
   ]
  },
  {
   "cell_type": "markdown",
   "metadata": {},
   "source": [
    "We can target new states and cities for marketing efforts and new brewpubs based on market profiles and state economic data."
   ]
  },
  {
   "cell_type": "markdown",
   "metadata": {},
   "source": [
    "Utilizing data on individual brewery production and pre-selected predictor variables, we can identify key demograpic and economic indicators for market adoption of new craft beers."
   ]
  },
  {
   "cell_type": "markdown",
   "metadata": {},
   "source": [
    "#### Available Data"
   ]
  },
  {
   "cell_type": "markdown",
   "metadata": {},
   "source": [
    "Brewer's Association\n",
    "- Individual brewery production in barrels from 2011-2015.\n",
    "- State info: Breweries per capita, economic impact, gallons per adult.\n",
    "- U.S. Market info: Market share of craft beer, overall beer market value."
   ]
  },
  {
   "cell_type": "code",
   "execution_count": 8,
   "metadata": {
    "collapsed": false
   },
   "outputs": [],
   "source": [
    "brewer_test_data_2014 = pd.read_csv(\"Brewery_Data_2014_Test.csv\")"
   ]
  },
  {
   "cell_type": "code",
   "execution_count": 9,
   "metadata": {
    "collapsed": false
   },
   "outputs": [
    {
     "data": {
      "text/html": [
       "<div>\n",
       "<table border=\"1\" class=\"dataframe\">\n",
       "  <thead>\n",
       "    <tr style=\"text-align: right;\">\n",
       "      <th></th>\n",
       "      <th>Craft Brewer Name</th>\n",
       "      <th>State</th>\n",
       "      <th>Estimate</th>\n",
       "      <th>2014 Barrels</th>\n",
       "    </tr>\n",
       "  </thead>\n",
       "  <tbody>\n",
       "    <tr>\n",
       "      <th>0</th>\n",
       "      <td>(512) Brewing Co</td>\n",
       "      <td>TX</td>\n",
       "      <td>n</td>\n",
       "      <td>10,500</td>\n",
       "    </tr>\n",
       "    <tr>\n",
       "      <th>1</th>\n",
       "      <td>10 Barrel Brewing Co</td>\n",
       "      <td>OR</td>\n",
       "      <td>n</td>\n",
       "      <td>40,000</td>\n",
       "    </tr>\n",
       "    <tr>\n",
       "      <th>2</th>\n",
       "      <td>101 Brewery</td>\n",
       "      <td>WA</td>\n",
       "      <td>y</td>\n",
       "      <td>48</td>\n",
       "    </tr>\n",
       "    <tr>\n",
       "      <th>3</th>\n",
       "      <td>101 North Brewing Company</td>\n",
       "      <td>CA</td>\n",
       "      <td>n</td>\n",
       "      <td>1,800</td>\n",
       "    </tr>\n",
       "    <tr>\n",
       "      <th>4</th>\n",
       "      <td>1188 Brewing Co</td>\n",
       "      <td>OR</td>\n",
       "      <td>n</td>\n",
       "      <td>58</td>\n",
       "    </tr>\n",
       "  </tbody>\n",
       "</table>\n",
       "</div>"
      ],
      "text/plain": [
       "           Craft Brewer Name State Estimate 2014 Barrels\n",
       "0           (512) Brewing Co    TX        n       10,500\n",
       "1       10 Barrel Brewing Co    OR        n       40,000\n",
       "2                101 Brewery    WA        y           48\n",
       "3  101 North Brewing Company    CA        n        1,800\n",
       "4            1188 Brewing Co    OR        n           58"
      ]
     },
     "execution_count": 9,
     "metadata": {},
     "output_type": "execute_result"
    }
   ],
   "source": [
    "brewer_test_data_2014.head()"
   ]
  },
  {
   "cell_type": "markdown",
   "metadata": {},
   "source": [
    "State economic and demographic information\n",
    "- GDP, employment, mean income\n",
    "- Education\n",
    "- Local alcohol laws"
   ]
  },
  {
   "cell_type": "markdown",
   "metadata": {},
   "source": [
    "#### Analysis Plan"
   ]
  },
  {
   "cell_type": "markdown",
   "metadata": {},
   "source": [
    "Linear regression\n",
    "- Share of beer market based on state economic info\n",
    "- Barrels produced in state based on state economic info\n",
    "- Key growth metrics\n",
    "\n",
    "Decision Tree\n",
    "- Ranking of state market indicators\n",
    "- Predicting growth"
   ]
  },
  {
   "cell_type": "markdown",
   "metadata": {},
   "source": [
    "#### Assumptions, Risks, Outstanding Questions"
   ]
  },
  {
   "cell_type": "markdown",
   "metadata": {},
   "source": [
    "Beer is a unique market in that it's very elastic - regardless of income and overall economic health, individuals will continue to purchase alcohol.  Thus, it's difficult to identify specific economic variables which are actually impacting the purchase of alcohol in a positive way.  \n",
    "\n",
    "Furthermore, on a brewery level, the data we have to work with does utilize a fair amount of estimation and some breweries refuse to disclose the number of barrels production.  Underlying this dataset is the issue that barrels production isn't necessarily the same thing as barrels sold.  It's a reasonable assumption that an increase or decrease in production over the timeframe of our dataset can still give us a hint as to sales - if a brewery increased production it's fair to assume they were reacting to sales.\n",
    "\n",
    "A large amount of the near 3300 breweries in this dataset are very much 'microbreweries' in practice more than just name.  Some are producing fewer than 10 barrels a year.  This makes the classification of craft beer an awkward one, because these breweries are classified alongside breweries with hundreds of thousands of barrels sold annualy, like Sierra Nevada and Lagunitas.  We may discover that what it appears to be a mainstream adoption of microbreweries is actually just household adoption of the largest producers.\n",
    "\n",
    "Finally, it is possible that diagnosing the growth in craft beer will be easier than predicting future growth.  Linear regression and decision trees could help identify the largest coefficients and classify different markets, but we may find that the variables identified are more nebulous.  This could include societal factors like political leanings, popularity of certain foods and music, or simply the notion that craft beer is trendy.  Factors such as these are going to be easy to identify in hindsight but more difficult to predict in new markets, especially ones that have long been less open to craft beers."
   ]
  },
  {
   "cell_type": "markdown",
   "metadata": {},
   "source": [
    "#### Success Criteria"
   ]
  },
  {
   "cell_type": "markdown",
   "metadata": {},
   "source": [
    "A successful study will result in the following:\n",
    "- Key variables identified for both increased market share and barrel production\n",
    "- Variables identified are confirmed by hypothesis testing and linear regression to have high relevance\n",
    "- Ranking of variables in order of importance, allowing for the creation of a checklist for new markets\n",
    "- Prediction of brewery production across different states based on key economic indicators"
   ]
  },
  {
   "cell_type": "code",
   "execution_count": null,
   "metadata": {
    "collapsed": true
   },
   "outputs": [],
   "source": []
  }
 ],
 "metadata": {
  "anaconda-cloud": {},
  "kernelspec": {
   "display_name": "Python [Root]",
   "language": "python",
   "name": "Python [Root]"
  },
  "language_info": {
   "codemirror_mode": {
    "name": "ipython",
    "version": 2
   },
   "file_extension": ".py",
   "mimetype": "text/x-python",
   "name": "python",
   "nbconvert_exporter": "python",
   "pygments_lexer": "ipython2",
   "version": "2.7.12"
  }
 },
 "nbformat": 4,
 "nbformat_minor": 0
}
