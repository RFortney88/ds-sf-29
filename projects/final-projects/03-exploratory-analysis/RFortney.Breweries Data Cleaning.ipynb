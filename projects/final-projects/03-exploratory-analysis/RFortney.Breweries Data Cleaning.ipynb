{
 "cells": [
  {
   "cell_type": "code",
   "execution_count": 2,
   "metadata": {
    "collapsed": false
   },
   "outputs": [],
   "source": [
    "import pandas as pd\n",
    "import numpy as np\n",
    "import scipy as sp\n",
    "import seaborn as sb\n",
    "import matplotlib as plt\n",
    "%matplotlib inline"
   ]
  },
  {
   "cell_type": "markdown",
   "metadata": {},
   "source": [
    "### Column Cleaning Functions"
   ]
  },
  {
   "cell_type": "code",
   "execution_count": 3,
   "metadata": {
    "collapsed": false
   },
   "outputs": [],
   "source": [
    "def clean_text(text_string, special_characters):\n",
    "    cleaned_string = text_string\n",
    "    for string in special_characters:\n",
    "        cleaned_string = cleaned_string.replace(string, \"\")\n",
    "    cleaned_string = cleaned_string.lower()\n",
    "    return(cleaned_string)\n",
    "\n",
    "def clean_list(string_list, special_characters, new_list):\n",
    "    #runs through every string in a list, cleans them of special characters, lowercases them, and then returns each individual string in a new list.\n",
    "    for string in string_list:\n",
    "        cleaned_string = string\n",
    "        for char in special_characters:\n",
    "            cleaned_string = cleaned_string.replace(char, \"\")\n",
    "        cleaned_string = cleaned_string.lower()\n",
    "        new_list.append(cleaned_string)\n",
    "\n",
    "def clean_bbl_value(data):\n",
    "    ret = str(data).strip().replace(',', '')\n",
    "    try:\n",
    "        return int(float(ret))\n",
    "    except ValueError:\n",
    "        return 0\n",
    "        \n",
    "def annoying_words(text_string, bad_words):\n",
    "    #removes extra words from a string\n",
    "    cleaned_string = text_string\n",
    "    cleaned_string = cleaned_string.split(\" \")\n",
    "    for word in cleaned_string:\n",
    "        if word in bad_words:\n",
    "            cleaned_string.remove(word)\n",
    "    join_string = ' '.join(cleaned_string)\n",
    "    return join_string\n",
    "def annoying_words_list(text_list, bad_words, new_list):\n",
    "    #takes a list of strings, removes all extra words, rejoins the string, and then adds the new strings into a new list.\n",
    "    for strings in text_list:\n",
    "        #take each string in a list, and split it on the space between words, creating a list of individual words\n",
    "        cleaned_string = strings\n",
    "        cleaned_string = cleaned_string.split(\" \")\n",
    "        #check each word in the list specified, if it is found in the split words list, remove that word from the list\n",
    "        for words in bad_words:\n",
    "            if words in cleaned_string:\n",
    "                cleaned_string.remove(words)\n",
    "        #now that we've removed the words we want, re-join the remaining words back into a string\n",
    "        join_string = '_'.join(cleaned_string)\n",
    "        #take each of the new strings created and add them to the final list specified in the arguements\n",
    "        new_list.append(join_string)"
   ]
  },
  {
   "cell_type": "code",
   "execution_count": 4,
   "metadata": {
    "collapsed": true
   },
   "outputs": [],
   "source": [
    "clean_chars = [\",\",\".\",\"'\", '&', '#', '*', '/', '(', ')', '-',\"'\",\"`\"]\n",
    "extra_words = ['The', 'the', 'Co', 'co', 'llc']"
   ]
  },
  {
   "cell_type": "markdown",
   "metadata": {},
   "source": [
    "### Importing Brewery CSV files"
   ]
  },
  {
   "cell_type": "code",
   "execution_count": 5,
   "metadata": {
    "collapsed": false
   },
   "outputs": [],
   "source": [
    "#Desktop Brewery_Code Brewery_Data\n",
    "brewery_2008 = pd.read_csv(\"Brews2008.csv\")\n",
    "brewery_2009 = pd.read_csv(\"Brews2009.csv\")\n",
    "brewery_2010 = pd.read_csv(\"Brews2010.csv\")\n",
    "brewery_2011 = pd.read_csv(\"Brews2011.csv\")\n",
    "brewery_2012 = pd.read_csv(\"Brews2012.csv\")\n",
    "brewery_2013 = pd.read_csv(\"Brews2013.csv\")\n",
    "brewery_2014 = pd.read_csv(\"Brews2014.csv\")"
   ]
  },
  {
   "cell_type": "code",
   "execution_count": 6,
   "metadata": {
    "collapsed": false
   },
   "outputs": [],
   "source": [
    "brewery_names_2008 = list(brewery_2008[\"Business Name\"])\n",
    "brewery_names_2009 = list(brewery_2009[\"Business Name\"])\n",
    "brewery_names_2010 = list(brewery_2010[\"Name\"])\n",
    "brewery_names_2011 = list(brewery_2011[\"Craft Brewer Name\"])\n",
    "brewery_names_2012 = list(brewery_2012[\"Craft Brewer Name\"])\n",
    "brewery_names_2013 = list(brewery_2013[\"Craft Brewer Name\"])\n",
    "brewery_names_2014 = list(brewery_2014[\"Craft Brewer Name\"])"
   ]
  },
  {
   "cell_type": "markdown",
   "metadata": {},
   "source": [
    "### Cleaning out punctuation"
   ]
  },
  {
   "cell_type": "code",
   "execution_count": 7,
   "metadata": {
    "collapsed": false
   },
   "outputs": [],
   "source": [
    "clean1_2008 = []\n",
    "clean_list(brewery_2008[\"Business Name\"], clean_chars, clean1_2008)"
   ]
  },
  {
   "cell_type": "code",
   "execution_count": 8,
   "metadata": {
    "collapsed": false
   },
   "outputs": [],
   "source": [
    "clean1_2009 = []\n",
    "clean_list(brewery_2009[\"Business Name\"], clean_chars, clean1_2009)"
   ]
  },
  {
   "cell_type": "code",
   "execution_count": 9,
   "metadata": {
    "collapsed": false
   },
   "outputs": [],
   "source": [
    "clean1_2010 = []\n",
    "clean_list(brewery_2010[\"Name\"], clean_chars, clean1_2010)"
   ]
  },
  {
   "cell_type": "code",
   "execution_count": 10,
   "metadata": {
    "collapsed": true
   },
   "outputs": [],
   "source": [
    "clean1_2011 = []\n",
    "clean_list(brewery_2011[\"Craft Brewer Name\"], clean_chars, clean1_2011)"
   ]
  },
  {
   "cell_type": "code",
   "execution_count": 11,
   "metadata": {
    "collapsed": false
   },
   "outputs": [],
   "source": [
    "clean1_2012 = []\n",
    "clean_list(brewery_2012[\"Craft Brewer Name\"], clean_chars, clean1_2012)"
   ]
  },
  {
   "cell_type": "code",
   "execution_count": 12,
   "metadata": {
    "collapsed": true
   },
   "outputs": [],
   "source": [
    "clean1_2013 = []\n",
    "clean_list(brewery_2013[\"Craft Brewer Name\"], clean_chars, clean1_2013)"
   ]
  },
  {
   "cell_type": "code",
   "execution_count": 13,
   "metadata": {
    "collapsed": true
   },
   "outputs": [],
   "source": [
    "clean1_2014 = []\n",
    "clean_list(brewery_2014[\"Craft Brewer Name\"], clean_chars, clean1_2014)"
   ]
  },
  {
   "cell_type": "markdown",
   "metadata": {},
   "source": [
    "### Clean 2010 - \".0\" point"
   ]
  },
  {
   "cell_type": "raw",
   "metadata": {},
   "source": [
    "brewery_2008[\"2008 Total\"] = brewery_2008[\"2008 Total\"].apply(clean_bbl_value)"
   ]
  },
  {
   "cell_type": "code",
   "execution_count": 14,
   "metadata": {
    "collapsed": false
   },
   "outputs": [],
   "source": [
    "brewery_2009[\"2009 Total Production\"] = brewery_2009[\"2009 Total Production\"].apply(clean_bbl_value)"
   ]
  },
  {
   "cell_type": "code",
   "execution_count": 15,
   "metadata": {
    "collapsed": false
   },
   "outputs": [],
   "source": [
    "brewery_2010[\"2010 Production\"] = brewery_2010[\"2010 Production\"].apply(clean_bbl_value)"
   ]
  },
  {
   "cell_type": "code",
   "execution_count": 16,
   "metadata": {
    "collapsed": false
   },
   "outputs": [],
   "source": [
    "brewery_2011[\"2011 BBLS\"] = brewery_2011[\"2011 BBLS\"].apply(clean_bbl_value)"
   ]
  },
  {
   "cell_type": "code",
   "execution_count": 17,
   "metadata": {
    "collapsed": false
   },
   "outputs": [],
   "source": [
    "brewery_2012[\"2012 Barrels\"] = brewery_2012[\"2012 Barrels\"].apply(clean_bbl_value)"
   ]
  },
  {
   "cell_type": "code",
   "execution_count": 18,
   "metadata": {
    "collapsed": false
   },
   "outputs": [],
   "source": [
    "brewery_2013[\"2013 Barrels\"] = brewery_2013[\"2013 Barrels\"].apply(clean_bbl_value)"
   ]
  },
  {
   "cell_type": "code",
   "execution_count": 19,
   "metadata": {
    "collapsed": false
   },
   "outputs": [],
   "source": [
    "brewery_2014[\"2014 Barrels\"] = brewery_2014[\"2014 Barrels\"].apply(clean_bbl_value)"
   ]
  },
  {
   "cell_type": "code",
   "execution_count": 20,
   "metadata": {
    "collapsed": false
   },
   "outputs": [
    {
     "data": {
      "text/plain": [
       "0         2650\n",
       "1         2400\n",
       "2          475\n",
       "3           40\n",
       "4        13036\n",
       "5          762\n",
       "6           11\n",
       "7          450\n",
       "8           80\n",
       "9          500\n",
       "10         740\n",
       "11         800\n",
       "12         300\n",
       "13         800\n",
       "14        1050\n",
       "15         763\n",
       "16         480\n",
       "17         350\n",
       "18         300\n",
       "19      109100\n",
       "20          80\n",
       "21         704\n",
       "22         483\n",
       "23         450\n",
       "24         150\n",
       "25        1560\n",
       "26         934\n",
       "27      117100\n",
       "28         225\n",
       "29         815\n",
       "         ...  \n",
       "1669       125\n",
       "1670         0\n",
       "1671        20\n",
       "1672       396\n",
       "1673       337\n",
       "1674      1480\n",
       "1675        14\n",
       "1676       705\n",
       "1677       120\n",
       "1678         0\n",
       "1679       575\n",
       "1680       470\n",
       "1681       125\n",
       "1682       100\n",
       "1683         0\n",
       "1684       175\n",
       "1685       120\n",
       "1686      1175\n",
       "1687       600\n",
       "1688       659\n",
       "1689        73\n",
       "1690      3502\n",
       "1691        76\n",
       "1692       150\n",
       "1693       513\n",
       "1694     14000\n",
       "1695      9136\n",
       "1696        20\n",
       "1697      3000\n",
       "1698      1500\n",
       "Name: 2010 Production, dtype: int64"
      ]
     },
     "execution_count": 20,
     "metadata": {},
     "output_type": "execute_result"
    }
   ],
   "source": [
    "brewery_2010[\"2010 Production\"]"
   ]
  },
  {
   "cell_type": "code",
   "execution_count": 21,
   "metadata": {
    "collapsed": false
   },
   "outputs": [
    {
     "data": {
      "text/html": [
       "<div>\n",
       "<table border=\"1\" class=\"dataframe\">\n",
       "  <thead>\n",
       "    <tr style=\"text-align: right;\">\n",
       "      <th></th>\n",
       "      <th>Craft Brewer Name</th>\n",
       "      <th>State</th>\n",
       "      <th>Estimate</th>\n",
       "      <th>2011 BBLS</th>\n",
       "    </tr>\n",
       "  </thead>\n",
       "  <tbody>\n",
       "    <tr>\n",
       "      <th>0</th>\n",
       "      <td>(512) Brewing Co.</td>\n",
       "      <td>TX</td>\n",
       "      <td>0</td>\n",
       "      <td>4550</td>\n",
       "    </tr>\n",
       "    <tr>\n",
       "      <th>1</th>\n",
       "      <td>10 Barrel Brewing Co.</td>\n",
       "      <td>OR</td>\n",
       "      <td>1</td>\n",
       "      <td>3200</td>\n",
       "    </tr>\n",
       "    <tr>\n",
       "      <th>2</th>\n",
       "      <td>12 String Brewing Co.</td>\n",
       "      <td>WA</td>\n",
       "      <td>0</td>\n",
       "      <td>85</td>\n",
       "    </tr>\n",
       "    <tr>\n",
       "      <th>3</th>\n",
       "      <td>16 Mile Brewing Co.</td>\n",
       "      <td>DE</td>\n",
       "      <td>1</td>\n",
       "      <td>850</td>\n",
       "    </tr>\n",
       "    <tr>\n",
       "      <th>4</th>\n",
       "      <td>192 Brewing</td>\n",
       "      <td>WA</td>\n",
       "      <td>1</td>\n",
       "      <td>75</td>\n",
       "    </tr>\n",
       "  </tbody>\n",
       "</table>\n",
       "</div>"
      ],
      "text/plain": [
       "       Craft Brewer Name State  Estimate  2011 BBLS\n",
       "0      (512) Brewing Co.    TX         0       4550\n",
       "1  10 Barrel Brewing Co.    OR         1       3200\n",
       "2  12 String Brewing Co.    WA         0         85\n",
       "3    16 Mile Brewing Co.    DE         1        850\n",
       "4            192 Brewing    WA         1         75"
      ]
     },
     "execution_count": 21,
     "metadata": {},
     "output_type": "execute_result"
    }
   ],
   "source": [
    "brewery_2011.head()"
   ]
  },
  {
   "cell_type": "code",
   "execution_count": null,
   "metadata": {
    "collapsed": true
   },
   "outputs": [],
   "source": []
  },
  {
   "cell_type": "markdown",
   "metadata": {},
   "source": [
    "### Cleaning extra words"
   ]
  },
  {
   "cell_type": "code",
   "execution_count": 22,
   "metadata": {
    "collapsed": true
   },
   "outputs": [],
   "source": [
    "clean2_2008 = []\n",
    "annoying_words_list(clean1_2008,extra_words,clean2_2008)"
   ]
  },
  {
   "cell_type": "code",
   "execution_count": 23,
   "metadata": {
    "collapsed": false
   },
   "outputs": [],
   "source": [
    "clean2_2009 = []\n",
    "annoying_words_list(clean1_2009,extra_words,clean2_2009)"
   ]
  },
  {
   "cell_type": "code",
   "execution_count": 24,
   "metadata": {
    "collapsed": false
   },
   "outputs": [],
   "source": [
    "clean2_2010 = []\n",
    "annoying_words_list(clean1_2010,extra_words,clean2_2010)"
   ]
  },
  {
   "cell_type": "code",
   "execution_count": 25,
   "metadata": {
    "collapsed": true
   },
   "outputs": [],
   "source": [
    "clean2_2011 = []\n",
    "annoying_words_list(clean1_2011,extra_words,clean2_2011)"
   ]
  },
  {
   "cell_type": "code",
   "execution_count": 26,
   "metadata": {
    "collapsed": false
   },
   "outputs": [],
   "source": [
    "clean2_2012 = []\n",
    "annoying_words_list(clean1_2012,extra_words,clean2_2012)"
   ]
  },
  {
   "cell_type": "code",
   "execution_count": 27,
   "metadata": {
    "collapsed": true
   },
   "outputs": [],
   "source": [
    "clean2_2013 = []\n",
    "annoying_words_list(clean1_2013,extra_words,clean2_2013)"
   ]
  },
  {
   "cell_type": "code",
   "execution_count": 28,
   "metadata": {
    "collapsed": false
   },
   "outputs": [],
   "source": [
    "clean2_2014 = []\n",
    "annoying_words_list(clean1_2014,extra_words,clean2_2014)"
   ]
  },
  {
   "cell_type": "markdown",
   "metadata": {},
   "source": [
    "### Replacing columns in dataframe with cleaned copies"
   ]
  },
  {
   "cell_type": "code",
   "execution_count": 29,
   "metadata": {
    "collapsed": false
   },
   "outputs": [],
   "source": [
    "old_2008 = list(brewery_2008[\"Business Name\"])\n",
    "brews_2008 = brewery_2008.replace(old_2008, clean2_2008)"
   ]
  },
  {
   "cell_type": "code",
   "execution_count": 30,
   "metadata": {
    "collapsed": false
   },
   "outputs": [],
   "source": [
    "old_2009 = list(brewery_2009[\"Business Name\"])\n",
    "brews_2009 = brewery_2009.replace(old_2009, clean2_2009)"
   ]
  },
  {
   "cell_type": "code",
   "execution_count": 31,
   "metadata": {
    "collapsed": false
   },
   "outputs": [],
   "source": [
    "old_2010 = list(brewery_2010[\"Name\"])\n",
    "brews_2010 = brewery_2010.replace(old_2010, clean2_2010)"
   ]
  },
  {
   "cell_type": "code",
   "execution_count": 32,
   "metadata": {
    "collapsed": false
   },
   "outputs": [],
   "source": [
    "old_2011 = list(brewery_2011[\"Craft Brewer Name\"])\n",
    "brews_2011 = brewery_2011.replace(old_2011, clean2_2011)"
   ]
  },
  {
   "cell_type": "code",
   "execution_count": 33,
   "metadata": {
    "collapsed": false
   },
   "outputs": [],
   "source": [
    "old_2012 = list(brewery_2012[\"Craft Brewer Name\"])\n",
    "brews_2012 = brewery_2012.replace(old_2012, clean2_2012)"
   ]
  },
  {
   "cell_type": "code",
   "execution_count": 34,
   "metadata": {
    "collapsed": false
   },
   "outputs": [],
   "source": [
    "old_2013 = list(brewery_2013[\"Craft Brewer Name\"])\n",
    "brews_2013 = brewery_2013.replace(old_2013, clean2_2013)"
   ]
  },
  {
   "cell_type": "code",
   "execution_count": 35,
   "metadata": {
    "collapsed": false
   },
   "outputs": [],
   "source": [
    "old_2014 = list(brewery_2014[\"Craft Brewer Name\"])\n",
    "brews_2014 = brewery_2014.replace(old_2014, clean2_2014)"
   ]
  },
  {
   "cell_type": "code",
   "execution_count": 36,
   "metadata": {
    "collapsed": false
   },
   "outputs": [
    {
     "data": {
      "text/html": [
       "<div>\n",
       "<table border=\"1\" class=\"dataframe\">\n",
       "  <thead>\n",
       "    <tr style=\"text-align: right;\">\n",
       "      <th></th>\n",
       "      <th>Name</th>\n",
       "      <th>State</th>\n",
       "      <th>2010 Production</th>\n",
       "      <th>Estimate</th>\n",
       "    </tr>\n",
       "  </thead>\n",
       "  <tbody>\n",
       "    <tr>\n",
       "      <th>0</th>\n",
       "      <td>512_brewing</td>\n",
       "      <td>TX</td>\n",
       "      <td>2650</td>\n",
       "      <td>0</td>\n",
       "    </tr>\n",
       "    <tr>\n",
       "      <th>1</th>\n",
       "      <td>10_barrel_brewing</td>\n",
       "      <td>OR</td>\n",
       "      <td>2400</td>\n",
       "      <td>0</td>\n",
       "    </tr>\n",
       "    <tr>\n",
       "      <th>2</th>\n",
       "      <td>16_mile_brewing</td>\n",
       "      <td>DE</td>\n",
       "      <td>475</td>\n",
       "      <td>1</td>\n",
       "    </tr>\n",
       "    <tr>\n",
       "      <th>3</th>\n",
       "      <td>192_brewing</td>\n",
       "      <td>WA</td>\n",
       "      <td>40</td>\n",
       "      <td>1</td>\n",
       "    </tr>\n",
       "    <tr>\n",
       "      <th>4</th>\n",
       "      <td>21st_amendment_brewery_cafe</td>\n",
       "      <td>CA</td>\n",
       "      <td>13036</td>\n",
       "      <td>0</td>\n",
       "    </tr>\n",
       "  </tbody>\n",
       "</table>\n",
       "</div>"
      ],
      "text/plain": [
       "                          Name State  2010 Production  Estimate\n",
       "0                  512_brewing    TX             2650         0\n",
       "1            10_barrel_brewing    OR             2400         0\n",
       "2              16_mile_brewing    DE              475         1\n",
       "3                  192_brewing    WA               40         1\n",
       "4  21st_amendment_brewery_cafe    CA            13036         0"
      ]
     },
     "execution_count": 36,
     "metadata": {},
     "output_type": "execute_result"
    }
   ],
   "source": [
    "brews_2010.head()"
   ]
  },
  {
   "cell_type": "code",
   "execution_count": 37,
   "metadata": {
    "collapsed": true
   },
   "outputs": [],
   "source": [
    "def list_integrity(breweries, brew_list1, brew_list2, brew_list3, brew_list4, brew_list5, brew_list6):\n",
    "    # start with an empty list relative to this function\n",
    "    result_list = []\n",
    "    for brewery in breweries:\n",
    "        if brewery in brew_list1 and brewery in brew_list2 and brewery in brew_list3 and brewery in brew_list4 and brewery in brew_list5 and brewery in brew_list6:\n",
    "            result_list.append(brewery)\n",
    "\n",
    "    # print it out, can comment this out once we know the function is working\n",
    "    #print result_list\n",
    "\n",
    "    # send our result back to the caller\n",
    "    return result_list"
   ]
  },
  {
   "cell_type": "code",
   "execution_count": 38,
   "metadata": {
    "collapsed": false
   },
   "outputs": [],
   "source": [
    "brewery_names_2008 = list(brews_2008[\"Business Name\"])\n",
    "brewery_names_2009 = list(brews_2009[\"Business Name\"])\n",
    "brewery_names_2010 = list(brews_2010[\"Name\"])\n",
    "brewery_names_2011 = list(brews_2011[\"Craft Brewer Name\"])\n",
    "brewery_names_2012 = list(brews_2012[\"Craft Brewer Name\"])\n",
    "brewery_names_2013 = list(brews_2013[\"Craft Brewer Name\"])\n",
    "brewery_names_2014 = list(brews_2014[\"Craft Brewer Name\"])\n",
    "breweries_lists = [brews_2008, brews_2009, brews_2010, brews_2011, brews_2012, brews_2013, brews_2014]"
   ]
  },
  {
   "cell_type": "code",
   "execution_count": 39,
   "metadata": {
    "collapsed": true
   },
   "outputs": [],
   "source": [
    "cleaned_brewery_names = [brewery_names_2008, brewery_names_2009, brewery_names_2010, brewery_names_2011, brewery_names_2012, brewery_names_2013]"
   ]
  },
  {
   "cell_type": "code",
   "execution_count": 40,
   "metadata": {
    "collapsed": false
   },
   "outputs": [],
   "source": [
    "intact_list1 = list_integrity(brewery_names_2014, brewery_names_2008, brewery_names_2009, brewery_names_2010, brewery_names_2011, brewery_names_2012, brewery_names_2013)"
   ]
  },
  {
   "cell_type": "code",
   "execution_count": 41,
   "metadata": {
    "collapsed": false
   },
   "outputs": [
    {
     "data": {
      "text/plain": [
       "541"
      ]
     },
     "execution_count": 41,
     "metadata": {},
     "output_type": "execute_result"
    }
   ],
   "source": [
    "len(intact_list1)"
   ]
  },
  {
   "cell_type": "code",
   "execution_count": 42,
   "metadata": {
    "collapsed": false
   },
   "outputs": [],
   "source": [
    "brews_2008 = brews_2008.rename(columns = {\"Business Name\":\"Brewery Name\"})\n",
    "brews_2009 = brews_2009.rename(columns = {\"Business Name\":\"Brewery Name\"})\n",
    "brews_2010 = brews_2010.rename(columns = {\"Name\":\"Brewery Name\"})\n",
    "brews_2011 = brews_2011.rename(columns = {\"Craft Brewer Name\":\"Brewery Name\"})\n",
    "brews_2012 = brews_2012.rename(columns = {\"Craft Brewer Name\":\"Brewery Name\"})\n",
    "brews_2013 = brews_2013.rename(columns = {\"Craft Brewer Name\":\"Brewery Name\"})\n",
    "brews_2014 = brews_2014.rename(columns = {\"Craft Brewer Name\":\"Brewery Name\"})"
   ]
  },
  {
   "cell_type": "code",
   "execution_count": 43,
   "metadata": {
    "collapsed": false
   },
   "outputs": [],
   "source": [
    "for brew_frame in [brews_2008, brews_2009, brews_2010, brews_2011, brews_2012, brews_2013, brews_2014]:\n",
    "    if 'Estimate' in brew_frame:\n",
    "        del brew_frame['Estimate']\n",
    "    #if 'State' in brew_frame:\n",
    "        #del brew_frame['State']"
   ]
  },
  {
   "cell_type": "code",
   "execution_count": 44,
   "metadata": {
    "collapsed": false
   },
   "outputs": [
    {
     "data": {
      "text/html": [
       "<div>\n",
       "<table border=\"1\" class=\"dataframe\">\n",
       "  <thead>\n",
       "    <tr style=\"text-align: right;\">\n",
       "      <th></th>\n",
       "      <th>Brewery Name</th>\n",
       "      <th>State</th>\n",
       "      <th>2008 Total</th>\n",
       "    </tr>\n",
       "  </thead>\n",
       "  <tbody>\n",
       "    <tr>\n",
       "      <th>0</th>\n",
       "      <td>512_brewing</td>\n",
       "      <td>TX</td>\n",
       "      <td>268</td>\n",
       "    </tr>\n",
       "    <tr>\n",
       "      <th>1</th>\n",
       "      <td>10_barrel_brewing</td>\n",
       "      <td>OR</td>\n",
       "      <td>921</td>\n",
       "    </tr>\n",
       "    <tr>\n",
       "      <th>2</th>\n",
       "      <td>21st_amendment_brewery</td>\n",
       "      <td>CA</td>\n",
       "      <td>1847</td>\n",
       "    </tr>\n",
       "    <tr>\n",
       "      <th>3</th>\n",
       "      <td>23rd_street_brewery</td>\n",
       "      <td>KS</td>\n",
       "      <td>776</td>\n",
       "    </tr>\n",
       "    <tr>\n",
       "      <th>4</th>\n",
       "      <td>4th_street_brewing</td>\n",
       "      <td>OR</td>\n",
       "      <td>250</td>\n",
       "    </tr>\n",
       "  </tbody>\n",
       "</table>\n",
       "</div>"
      ],
      "text/plain": [
       "             Brewery Name State  2008 Total\n",
       "0             512_brewing    TX         268\n",
       "1       10_barrel_brewing    OR         921\n",
       "2  21st_amendment_brewery    CA        1847\n",
       "3     23rd_street_brewery    KS         776\n",
       "4      4th_street_brewing    OR         250"
      ]
     },
     "execution_count": 44,
     "metadata": {},
     "output_type": "execute_result"
    }
   ],
   "source": [
    "brews_2008.head()"
   ]
  },
  {
   "cell_type": "code",
   "execution_count": 45,
   "metadata": {
    "collapsed": false
   },
   "outputs": [
    {
     "data": {
      "text/html": [
       "<div>\n",
       "<table border=\"1\" class=\"dataframe\">\n",
       "  <thead>\n",
       "    <tr style=\"text-align: right;\">\n",
       "      <th></th>\n",
       "      <th>Brewery Name</th>\n",
       "      <th>State</th>\n",
       "      <th>2008 Total</th>\n",
       "    </tr>\n",
       "  </thead>\n",
       "  <tbody>\n",
       "    <tr>\n",
       "      <th>0</th>\n",
       "      <td>512_brewing</td>\n",
       "      <td>TX</td>\n",
       "      <td>268</td>\n",
       "    </tr>\n",
       "    <tr>\n",
       "      <th>1</th>\n",
       "      <td>10_barrel_brewing</td>\n",
       "      <td>OR</td>\n",
       "      <td>921</td>\n",
       "    </tr>\n",
       "    <tr>\n",
       "      <th>2</th>\n",
       "      <td>21st_amendment_brewery</td>\n",
       "      <td>CA</td>\n",
       "      <td>1847</td>\n",
       "    </tr>\n",
       "    <tr>\n",
       "      <th>3</th>\n",
       "      <td>23rd_street_brewery</td>\n",
       "      <td>KS</td>\n",
       "      <td>776</td>\n",
       "    </tr>\n",
       "    <tr>\n",
       "      <th>4</th>\n",
       "      <td>4th_street_brewing</td>\n",
       "      <td>OR</td>\n",
       "      <td>250</td>\n",
       "    </tr>\n",
       "    <tr>\n",
       "      <th>5</th>\n",
       "      <td>5_seasons_brewing_north</td>\n",
       "      <td>GA</td>\n",
       "      <td>600</td>\n",
       "    </tr>\n",
       "    <tr>\n",
       "      <th>6</th>\n",
       "      <td>5_seasons_brewing_sandy_springs</td>\n",
       "      <td>GA</td>\n",
       "      <td>800</td>\n",
       "    </tr>\n",
       "    <tr>\n",
       "      <th>7</th>\n",
       "      <td>75th_street_brewery</td>\n",
       "      <td>MO</td>\n",
       "      <td>1248</td>\n",
       "    </tr>\n",
       "    <tr>\n",
       "      <th>8</th>\n",
       "      <td>a1a_ale_works</td>\n",
       "      <td>FL</td>\n",
       "      <td>846</td>\n",
       "    </tr>\n",
       "    <tr>\n",
       "      <th>9</th>\n",
       "      <td>abbey_beverage</td>\n",
       "      <td>NM</td>\n",
       "      <td>400</td>\n",
       "    </tr>\n",
       "    <tr>\n",
       "      <th>10</th>\n",
       "      <td>abbey_brewing</td>\n",
       "      <td>FL</td>\n",
       "      <td>400</td>\n",
       "    </tr>\n",
       "    <tr>\n",
       "      <th>11</th>\n",
       "      <td>abbey_wright_brewing_valley_inn</td>\n",
       "      <td>PA</td>\n",
       "      <td>85</td>\n",
       "    </tr>\n",
       "    <tr>\n",
       "      <th>12</th>\n",
       "      <td>abita_brewing</td>\n",
       "      <td>LA</td>\n",
       "      <td>80000</td>\n",
       "    </tr>\n",
       "    <tr>\n",
       "      <th>13</th>\n",
       "      <td>academy_of_fine_beers__josef_bierbitzch</td>\n",
       "      <td>CA</td>\n",
       "      <td>400</td>\n",
       "    </tr>\n",
       "    <tr>\n",
       "      <th>14</th>\n",
       "      <td>adirondack_pub_and_brewery</td>\n",
       "      <td>NY</td>\n",
       "      <td>200</td>\n",
       "    </tr>\n",
       "    <tr>\n",
       "      <th>15</th>\n",
       "      <td>aiken_brewing</td>\n",
       "      <td>SC</td>\n",
       "      <td>417</td>\n",
       "    </tr>\n",
       "    <tr>\n",
       "      <th>16</th>\n",
       "      <td>airdale_brewing</td>\n",
       "      <td>CA</td>\n",
       "      <td>90</td>\n",
       "    </tr>\n",
       "    <tr>\n",
       "      <th>17</th>\n",
       "      <td>alameda_brewing</td>\n",
       "      <td>OR</td>\n",
       "      <td>995</td>\n",
       "    </tr>\n",
       "    <tr>\n",
       "      <th>18</th>\n",
       "      <td>alandale_brewing</td>\n",
       "      <td>MO</td>\n",
       "      <td>400</td>\n",
       "    </tr>\n",
       "    <tr>\n",
       "      <th>19</th>\n",
       "      <td>alaskan_brewing</td>\n",
       "      <td>AK</td>\n",
       "      <td>117600</td>\n",
       "    </tr>\n",
       "    <tr>\n",
       "      <th>20</th>\n",
       "      <td>alcatraz_brewing_indianapolis</td>\n",
       "      <td>IN</td>\n",
       "      <td>300</td>\n",
       "    </tr>\n",
       "    <tr>\n",
       "      <th>21</th>\n",
       "      <td>alcatraz_brewing_orange</td>\n",
       "      <td>CA</td>\n",
       "      <td>650</td>\n",
       "    </tr>\n",
       "    <tr>\n",
       "      <th>22</th>\n",
       "      <td>alchemist_pub__brewery</td>\n",
       "      <td>VT</td>\n",
       "      <td>420</td>\n",
       "    </tr>\n",
       "    <tr>\n",
       "      <th>23</th>\n",
       "      <td>ale_asylum</td>\n",
       "      <td>WI</td>\n",
       "      <td>3624</td>\n",
       "    </tr>\n",
       "    <tr>\n",
       "      <th>24</th>\n",
       "      <td>alesmith_brewing</td>\n",
       "      <td>CA</td>\n",
       "      <td>1537</td>\n",
       "    </tr>\n",
       "    <tr>\n",
       "      <th>25</th>\n",
       "      <td>allagash_brewing</td>\n",
       "      <td>ME</td>\n",
       "      <td>12803</td>\n",
       "    </tr>\n",
       "    <tr>\n",
       "      <th>26</th>\n",
       "      <td>allentown_brew_works</td>\n",
       "      <td>PA</td>\n",
       "      <td>944</td>\n",
       "    </tr>\n",
       "    <tr>\n",
       "      <th>27</th>\n",
       "      <td>alltechs_lexington_brewing</td>\n",
       "      <td>KY</td>\n",
       "      <td>4100</td>\n",
       "    </tr>\n",
       "    <tr>\n",
       "      <th>28</th>\n",
       "      <td>alpine_beer</td>\n",
       "      <td>CA</td>\n",
       "      <td>525</td>\n",
       "    </tr>\n",
       "    <tr>\n",
       "      <th>29</th>\n",
       "      <td>alpine_brewing</td>\n",
       "      <td>WA</td>\n",
       "      <td>850</td>\n",
       "    </tr>\n",
       "    <tr>\n",
       "      <th>...</th>\n",
       "      <td>...</td>\n",
       "      <td>...</td>\n",
       "      <td>...</td>\n",
       "    </tr>\n",
       "    <tr>\n",
       "      <th>1410</th>\n",
       "      <td>wharf_rat_camden_yardsolivers_breweries</td>\n",
       "      <td>MD</td>\n",
       "      <td>800</td>\n",
       "    </tr>\n",
       "    <tr>\n",
       "      <th>1411</th>\n",
       "      <td>white_marsh_brewing</td>\n",
       "      <td>MD</td>\n",
       "      <td>1400</td>\n",
       "    </tr>\n",
       "    <tr>\n",
       "      <th>1412</th>\n",
       "      <td>whitstran_brewing</td>\n",
       "      <td>WA</td>\n",
       "      <td>87</td>\n",
       "    </tr>\n",
       "    <tr>\n",
       "      <th>1413</th>\n",
       "      <td>wiedenmayer_beer</td>\n",
       "      <td>NJ</td>\n",
       "      <td>100</td>\n",
       "    </tr>\n",
       "    <tr>\n",
       "      <th>1414</th>\n",
       "      <td>wild_creek_brewing__untamed_southwest_grill</td>\n",
       "      <td>CO</td>\n",
       "      <td>100</td>\n",
       "    </tr>\n",
       "    <tr>\n",
       "      <th>1415</th>\n",
       "      <td>wild_mountain_smokehouse__brewery</td>\n",
       "      <td>CO</td>\n",
       "      <td>251</td>\n",
       "    </tr>\n",
       "    <tr>\n",
       "      <th>1416</th>\n",
       "      <td>wild_river_brewing_and_pizza</td>\n",
       "      <td>OR</td>\n",
       "      <td>296</td>\n",
       "    </tr>\n",
       "    <tr>\n",
       "      <th>1417</th>\n",
       "      <td>wild_river_brewing_and_pizza__grants_pass</td>\n",
       "      <td>OR</td>\n",
       "      <td>1476</td>\n",
       "    </tr>\n",
       "    <tr>\n",
       "      <th>1418</th>\n",
       "      <td>wildfire_brewing</td>\n",
       "      <td>OR</td>\n",
       "      <td>921</td>\n",
       "    </tr>\n",
       "    <tr>\n",
       "      <th>1419</th>\n",
       "      <td>wildlife_brewing</td>\n",
       "      <td>ID</td>\n",
       "      <td>420</td>\n",
       "    </tr>\n",
       "    <tr>\n",
       "      <th>1420</th>\n",
       "      <td>williamantic_brewing_and_main_st_cafe</td>\n",
       "      <td>CT</td>\n",
       "      <td>590</td>\n",
       "    </tr>\n",
       "    <tr>\n",
       "      <th>1421</th>\n",
       "      <td>williamsburg_alewerks</td>\n",
       "      <td>VA</td>\n",
       "      <td>800</td>\n",
       "    </tr>\n",
       "    <tr>\n",
       "      <th>1422</th>\n",
       "      <td>willoughby_brewing</td>\n",
       "      <td>OH</td>\n",
       "      <td>500</td>\n",
       "    </tr>\n",
       "    <tr>\n",
       "      <th>1423</th>\n",
       "      <td>wiltses_brew_pub_and_family_restaurant</td>\n",
       "      <td>MI</td>\n",
       "      <td>125</td>\n",
       "    </tr>\n",
       "    <tr>\n",
       "      <th>1424</th>\n",
       "      <td>wind_river_brewing__wy</td>\n",
       "      <td>WY</td>\n",
       "      <td>520</td>\n",
       "    </tr>\n",
       "    <tr>\n",
       "      <th>1425</th>\n",
       "      <td>wolf_creek_restaurant_and_brewery</td>\n",
       "      <td>CA</td>\n",
       "      <td>640</td>\n",
       "    </tr>\n",
       "    <tr>\n",
       "      <th>1426</th>\n",
       "      <td>wolf_pack_brewing</td>\n",
       "      <td>MT</td>\n",
       "      <td>200</td>\n",
       "    </tr>\n",
       "    <tr>\n",
       "      <th>1427</th>\n",
       "      <td>wolf_rock_brewing</td>\n",
       "      <td>CO</td>\n",
       "      <td>450</td>\n",
       "    </tr>\n",
       "    <tr>\n",
       "      <th>1428</th>\n",
       "      <td>wolverine_state_brewing</td>\n",
       "      <td>MI</td>\n",
       "      <td>135</td>\n",
       "    </tr>\n",
       "    <tr>\n",
       "      <th>1429</th>\n",
       "      <td>wooden_shoe_brewing</td>\n",
       "      <td>OH</td>\n",
       "      <td>100</td>\n",
       "    </tr>\n",
       "    <tr>\n",
       "      <th>1430</th>\n",
       "      <td>woodstock_inn_brewery</td>\n",
       "      <td>NH</td>\n",
       "      <td>3334</td>\n",
       "    </tr>\n",
       "    <tr>\n",
       "      <th>1431</th>\n",
       "      <td>woodward_avenue_brewers</td>\n",
       "      <td>MI</td>\n",
       "      <td>625</td>\n",
       "    </tr>\n",
       "    <tr>\n",
       "      <th>1432</th>\n",
       "      <td>worth_brewing</td>\n",
       "      <td>IA</td>\n",
       "      <td>58</td>\n",
       "    </tr>\n",
       "    <tr>\n",
       "      <th>1433</th>\n",
       "      <td>wunder_brewing</td>\n",
       "      <td>CA</td>\n",
       "      <td>50</td>\n",
       "    </tr>\n",
       "    <tr>\n",
       "      <th>1434</th>\n",
       "      <td>wyoming_state_brewing_world_famous_wonder_bar</td>\n",
       "      <td>WY</td>\n",
       "      <td>275</td>\n",
       "    </tr>\n",
       "    <tr>\n",
       "      <th>1435</th>\n",
       "      <td>yak_and_yeti</td>\n",
       "      <td>CO</td>\n",
       "      <td>150</td>\n",
       "    </tr>\n",
       "    <tr>\n",
       "      <th>1436</th>\n",
       "      <td>yakima_craft__brewing</td>\n",
       "      <td>WA</td>\n",
       "      <td>102</td>\n",
       "    </tr>\n",
       "    <tr>\n",
       "      <th>1437</th>\n",
       "      <td>yazoo_brewing</td>\n",
       "      <td>TN</td>\n",
       "      <td>6450</td>\n",
       "    </tr>\n",
       "    <tr>\n",
       "      <th>1438</th>\n",
       "      <td>yellowstone_valley_brewing</td>\n",
       "      <td>MT</td>\n",
       "      <td>3000</td>\n",
       "    </tr>\n",
       "    <tr>\n",
       "      <th>1439</th>\n",
       "      <td>z_street_brewing_</td>\n",
       "      <td>MA</td>\n",
       "      <td>20</td>\n",
       "    </tr>\n",
       "  </tbody>\n",
       "</table>\n",
       "<p>1440 rows × 3 columns</p>\n",
       "</div>"
      ],
      "text/plain": [
       "                                       Brewery Name State  2008 Total\n",
       "0                                       512_brewing    TX         268\n",
       "1                                 10_barrel_brewing    OR         921\n",
       "2                            21st_amendment_brewery    CA        1847\n",
       "3                               23rd_street_brewery    KS         776\n",
       "4                                4th_street_brewing    OR         250\n",
       "5                           5_seasons_brewing_north    GA         600\n",
       "6                   5_seasons_brewing_sandy_springs    GA         800\n",
       "7                               75th_street_brewery    MO        1248\n",
       "8                                     a1a_ale_works    FL         846\n",
       "9                                    abbey_beverage    NM         400\n",
       "10                                    abbey_brewing    FL         400\n",
       "11                  abbey_wright_brewing_valley_inn    PA          85\n",
       "12                                    abita_brewing    LA       80000\n",
       "13          academy_of_fine_beers__josef_bierbitzch    CA         400\n",
       "14                       adirondack_pub_and_brewery    NY         200\n",
       "15                                    aiken_brewing    SC         417\n",
       "16                                  airdale_brewing    CA          90\n",
       "17                                  alameda_brewing    OR         995\n",
       "18                                 alandale_brewing    MO         400\n",
       "19                                  alaskan_brewing    AK      117600\n",
       "20                    alcatraz_brewing_indianapolis    IN         300\n",
       "21                          alcatraz_brewing_orange    CA         650\n",
       "22                           alchemist_pub__brewery    VT         420\n",
       "23                                       ale_asylum    WI        3624\n",
       "24                                 alesmith_brewing    CA        1537\n",
       "25                                 allagash_brewing    ME       12803\n",
       "26                             allentown_brew_works    PA         944\n",
       "27                       alltechs_lexington_brewing    KY        4100\n",
       "28                                      alpine_beer    CA         525\n",
       "29                                   alpine_brewing    WA         850\n",
       "...                                             ...   ...         ...\n",
       "1410        wharf_rat_camden_yardsolivers_breweries    MD         800\n",
       "1411                            white_marsh_brewing    MD        1400\n",
       "1412                              whitstran_brewing    WA          87\n",
       "1413                               wiedenmayer_beer    NJ         100\n",
       "1414    wild_creek_brewing__untamed_southwest_grill    CO         100\n",
       "1415              wild_mountain_smokehouse__brewery    CO         251\n",
       "1416                   wild_river_brewing_and_pizza    OR         296\n",
       "1417      wild_river_brewing_and_pizza__grants_pass    OR        1476\n",
       "1418                               wildfire_brewing    OR         921\n",
       "1419                               wildlife_brewing    ID         420\n",
       "1420          williamantic_brewing_and_main_st_cafe    CT         590\n",
       "1421                          williamsburg_alewerks    VA         800\n",
       "1422                             willoughby_brewing    OH         500\n",
       "1423         wiltses_brew_pub_and_family_restaurant    MI         125\n",
       "1424                         wind_river_brewing__wy    WY         520\n",
       "1425              wolf_creek_restaurant_and_brewery    CA         640\n",
       "1426                              wolf_pack_brewing    MT         200\n",
       "1427                              wolf_rock_brewing    CO         450\n",
       "1428                        wolverine_state_brewing    MI         135\n",
       "1429                            wooden_shoe_brewing    OH         100\n",
       "1430                          woodstock_inn_brewery    NH        3334\n",
       "1431                        woodward_avenue_brewers    MI         625\n",
       "1432                                  worth_brewing    IA          58\n",
       "1433                                 wunder_brewing    CA          50\n",
       "1434  wyoming_state_brewing_world_famous_wonder_bar    WY         275\n",
       "1435                                   yak_and_yeti    CO         150\n",
       "1436                          yakima_craft__brewing    WA         102\n",
       "1437                                  yazoo_brewing    TN        6450\n",
       "1438                     yellowstone_valley_brewing    MT        3000\n",
       "1439                              z_street_brewing_    MA          20\n",
       "\n",
       "[1440 rows x 3 columns]"
      ]
     },
     "execution_count": 45,
     "metadata": {},
     "output_type": "execute_result"
    }
   ],
   "source": [
    "brews_2008"
   ]
  },
  {
   "cell_type": "code",
   "execution_count": 46,
   "metadata": {
    "collapsed": false
   },
   "outputs": [],
   "source": [
    "brew_complete = brews_2008.merge(brews_2009).merge(brews_2010).merge(brews_2011).merge(brews_2012).merge(brews_2013).merge(brews_2014)\n",
    "brew_complete.columns = ['Brewery Name', 'State', '2008 BBL', '2009 BBL', '2010 BBL', '2011 BBL', '2012 BBL', '2013 BBL', '2014 BBL']\n",
    "brew_complete\n",
    "\n",
    "# save this frame as a csv!\n",
    "brew_complete.to_csv('~/Downloads/brew_complete.csv')\n"
   ]
  },
  {
   "cell_type": "code",
   "execution_count": 47,
   "metadata": {
    "collapsed": false
   },
   "outputs": [
    {
     "data": {
      "text/html": [
       "<div>\n",
       "<table border=\"1\" class=\"dataframe\">\n",
       "  <thead>\n",
       "    <tr style=\"text-align: right;\">\n",
       "      <th></th>\n",
       "      <th>Brewery Name</th>\n",
       "      <th>State</th>\n",
       "      <th>2008 BBL</th>\n",
       "      <th>2009 BBL</th>\n",
       "      <th>2010 BBL</th>\n",
       "      <th>2011 BBL</th>\n",
       "      <th>2012 BBL</th>\n",
       "      <th>2013 BBL</th>\n",
       "      <th>2014 BBL</th>\n",
       "    </tr>\n",
       "  </thead>\n",
       "  <tbody>\n",
       "    <tr>\n",
       "      <th>0</th>\n",
       "      <td>512_brewing</td>\n",
       "      <td>TX</td>\n",
       "      <td>268</td>\n",
       "      <td>1250</td>\n",
       "      <td>2650</td>\n",
       "      <td>4550</td>\n",
       "      <td>6800</td>\n",
       "      <td>8500</td>\n",
       "      <td>10500</td>\n",
       "    </tr>\n",
       "    <tr>\n",
       "      <th>1</th>\n",
       "      <td>10_barrel_brewing</td>\n",
       "      <td>OR</td>\n",
       "      <td>921</td>\n",
       "      <td>1400</td>\n",
       "      <td>2400</td>\n",
       "      <td>3200</td>\n",
       "      <td>6000</td>\n",
       "      <td>23500</td>\n",
       "      <td>40000</td>\n",
       "    </tr>\n",
       "    <tr>\n",
       "      <th>2</th>\n",
       "      <td>23rd_street_brewery</td>\n",
       "      <td>KS</td>\n",
       "      <td>776</td>\n",
       "      <td>795</td>\n",
       "      <td>762</td>\n",
       "      <td>787</td>\n",
       "      <td>800</td>\n",
       "      <td>791</td>\n",
       "      <td>748</td>\n",
       "    </tr>\n",
       "    <tr>\n",
       "      <th>3</th>\n",
       "      <td>4th_street_brewing</td>\n",
       "      <td>OR</td>\n",
       "      <td>250</td>\n",
       "      <td>450</td>\n",
       "      <td>450</td>\n",
       "      <td>450</td>\n",
       "      <td>450</td>\n",
       "      <td>740</td>\n",
       "      <td>200</td>\n",
       "    </tr>\n",
       "    <tr>\n",
       "      <th>4</th>\n",
       "      <td>abbey_brewing</td>\n",
       "      <td>FL</td>\n",
       "      <td>400</td>\n",
       "      <td>350</td>\n",
       "      <td>350</td>\n",
       "      <td>350</td>\n",
       "      <td>400</td>\n",
       "      <td>400</td>\n",
       "      <td>1350</td>\n",
       "    </tr>\n",
       "  </tbody>\n",
       "</table>\n",
       "</div>"
      ],
      "text/plain": [
       "          Brewery Name State  2008 BBL  2009 BBL  2010 BBL  2011 BBL  \\\n",
       "0          512_brewing    TX       268      1250      2650      4550   \n",
       "1    10_barrel_brewing    OR       921      1400      2400      3200   \n",
       "2  23rd_street_brewery    KS       776       795       762       787   \n",
       "3   4th_street_brewing    OR       250       450       450       450   \n",
       "4        abbey_brewing    FL       400       350       350       350   \n",
       "\n",
       "   2012 BBL  2013 BBL  2014 BBL  \n",
       "0      6800      8500     10500  \n",
       "1      6000     23500     40000  \n",
       "2       800       791       748  \n",
       "3       450       740       200  \n",
       "4       400       400      1350  "
      ]
     },
     "execution_count": 47,
     "metadata": {},
     "output_type": "execute_result"
    }
   ],
   "source": [
    "brew_complete.head()"
   ]
  },
  {
   "cell_type": "code",
   "execution_count": 48,
   "metadata": {
    "collapsed": true
   },
   "outputs": [],
   "source": [
    "micro_brews_check = brew_complete[\"2014 BBL\"] < 5000"
   ]
  },
  {
   "cell_type": "code",
   "execution_count": 49,
   "metadata": {
    "collapsed": false
   },
   "outputs": [],
   "source": [
    "micro_brews = brew_complete[micro_brews_check]"
   ]
  },
  {
   "cell_type": "code",
   "execution_count": 50,
   "metadata": {
    "collapsed": false
   },
   "outputs": [
    {
     "data": {
      "text/plain": [
       "450.0"
      ]
     },
     "execution_count": 50,
     "metadata": {},
     "output_type": "execute_result"
    }
   ],
   "source": [
    "micro_brews[\"2008 BBL\"].median()"
   ]
  },
  {
   "cell_type": "code",
   "execution_count": 51,
   "metadata": {
    "collapsed": false
   },
   "outputs": [
    {
     "data": {
      "text/plain": [
       "500.0"
      ]
     },
     "execution_count": 51,
     "metadata": {},
     "output_type": "execute_result"
    }
   ],
   "source": [
    "micro_brews[\"2009 BBL\"].median()"
   ]
  },
  {
   "cell_type": "code",
   "execution_count": 52,
   "metadata": {
    "collapsed": false
   },
   "outputs": [
    {
     "data": {
      "text/plain": [
       "560.0"
      ]
     },
     "execution_count": 52,
     "metadata": {},
     "output_type": "execute_result"
    }
   ],
   "source": [
    "micro_brews[\"2010 BBL\"].median()"
   ]
  },
  {
   "cell_type": "code",
   "execution_count": null,
   "metadata": {
    "collapsed": false
   },
   "outputs": [],
   "source": []
  },
  {
   "cell_type": "markdown",
   "metadata": {},
   "source": [
    "### Importing State Economy Data"
   ]
  },
  {
   "cell_type": "code",
   "execution_count": 53,
   "metadata": {
    "collapsed": false
   },
   "outputs": [],
   "source": [
    "state_income = pd.read_csv(\"state_income.csv\")"
   ]
  },
  {
   "cell_type": "code",
   "execution_count": 54,
   "metadata": {
    "collapsed": false
   },
   "outputs": [
    {
     "data": {
      "text/plain": [
       "55532.0"
      ]
     },
     "execution_count": 54,
     "metadata": {},
     "output_type": "execute_result"
    }
   ],
   "source": [
    "state_income[\"State Median Income 2008\"].median()"
   ]
  },
  {
   "cell_type": "code",
   "execution_count": 55,
   "metadata": {
    "collapsed": false
   },
   "outputs": [
    {
     "data": {
      "text/plain": [
       "53420.5"
      ]
     },
     "execution_count": 55,
     "metadata": {},
     "output_type": "execute_result"
    }
   ],
   "source": [
    "state_income[\"State Median Income 2009\"].median()"
   ]
  },
  {
   "cell_type": "code",
   "execution_count": 56,
   "metadata": {
    "collapsed": false
   },
   "outputs": [
    {
     "data": {
      "text/plain": [
       "52736.5"
      ]
     },
     "execution_count": 56,
     "metadata": {},
     "output_type": "execute_result"
    }
   ],
   "source": [
    "state_income[\"State Median Income 2010\"].median()"
   ]
  },
  {
   "cell_type": "code",
   "execution_count": null,
   "metadata": {
    "collapsed": true
   },
   "outputs": [],
   "source": []
  }
 ],
 "metadata": {
  "anaconda-cloud": {},
  "kernelspec": {
   "display_name": "Python [Root]",
   "language": "python",
   "name": "Python [Root]"
  },
  "language_info": {
   "codemirror_mode": {
    "name": "ipython",
    "version": 2
   },
   "file_extension": ".py",
   "mimetype": "text/x-python",
   "name": "python",
   "nbconvert_exporter": "python",
   "pygments_lexer": "ipython2",
   "version": "2.7.12"
  }
 },
 "nbformat": 4,
 "nbformat_minor": 0
}
