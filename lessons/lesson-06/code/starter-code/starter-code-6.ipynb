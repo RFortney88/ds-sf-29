{
 "cells": [
  {
   "cell_type": "markdown",
   "metadata": {},
   "source": [
    "# Lesson 6 - Starter Code"
   ]
  },
  {
   "cell_type": "code",
<<<<<<< HEAD
   "execution_count": 34,
=======
   "execution_count": 3,
>>>>>>> abd19fcc1f5ddbf87e80e1972f93abf8ce0d1854
   "metadata": {
    "collapsed": false
   },
   "outputs": [],
   "source": [
    "%matplotlib inline\n",
    "import numpy as np\n",
    "import pandas as pd\n",
    "from matplotlib import pyplot as plt\n",
    "\n",
    "\n",
    "import sklearn.linear_model\n",
    "\n",
    "# read in the mammal dataset\n",
    "wd = '../../assets/dataset/msleep/'\n",
    "mammals = pd.read_csv(wd+'msleep.csv')\n",
    "mammals = mammals[mammals.brainwt.notnull()].copy()"
   ]
  },
  {
   "cell_type": "markdown",
   "metadata": {},
   "source": [
    "### Explore our mammals dataset"
   ]
  },
  {
   "cell_type": "code",
   "execution_count": 35,
   "metadata": {
    "collapsed": false
   },
   "outputs": [
    {
     "data": {
      "text/html": [
       "<div>\n",
       "<table border=\"1\" class=\"dataframe\">\n",
       "  <thead>\n",
       "    <tr style=\"text-align: right;\">\n",
       "      <th></th>\n",
       "      <th>name</th>\n",
       "      <th>genus</th>\n",
       "      <th>vore</th>\n",
       "      <th>order</th>\n",
       "      <th>conservation</th>\n",
       "      <th>sleep_total</th>\n",
       "      <th>sleep_rem</th>\n",
       "      <th>sleep_cycle</th>\n",
       "      <th>awake</th>\n",
       "      <th>brainwt</th>\n",
       "      <th>bodywt</th>\n",
       "    </tr>\n",
       "  </thead>\n",
       "  <tbody>\n",
       "    <tr>\n",
       "      <th>1</th>\n",
       "      <td>Owl monkey</td>\n",
       "      <td>Aotus</td>\n",
       "      <td>omni</td>\n",
       "      <td>Primates</td>\n",
       "      <td>NaN</td>\n",
       "      <td>17.0</td>\n",
       "      <td>1.8</td>\n",
       "      <td>NaN</td>\n",
       "      <td>7.0</td>\n",
       "      <td>0.01550</td>\n",
       "      <td>0.480</td>\n",
       "    </tr>\n",
       "    <tr>\n",
       "      <th>3</th>\n",
       "      <td>Greater short-tailed shrew</td>\n",
       "      <td>Blarina</td>\n",
       "      <td>omni</td>\n",
       "      <td>Soricomorpha</td>\n",
       "      <td>lc</td>\n",
       "      <td>14.9</td>\n",
       "      <td>2.3</td>\n",
       "      <td>0.133333</td>\n",
       "      <td>9.1</td>\n",
       "      <td>0.00029</td>\n",
       "      <td>0.019</td>\n",
       "    </tr>\n",
       "    <tr>\n",
       "      <th>4</th>\n",
       "      <td>Cow</td>\n",
       "      <td>Bos</td>\n",
       "      <td>herbi</td>\n",
       "      <td>Artiodactyla</td>\n",
       "      <td>domesticated</td>\n",
       "      <td>4.0</td>\n",
       "      <td>0.7</td>\n",
       "      <td>0.666667</td>\n",
       "      <td>20.0</td>\n",
       "      <td>0.42300</td>\n",
       "      <td>600.000</td>\n",
       "    </tr>\n",
       "    <tr>\n",
       "      <th>8</th>\n",
       "      <td>Dog</td>\n",
       "      <td>Canis</td>\n",
       "      <td>carni</td>\n",
       "      <td>Carnivora</td>\n",
       "      <td>domesticated</td>\n",
       "      <td>10.1</td>\n",
       "      <td>2.9</td>\n",
       "      <td>0.333333</td>\n",
       "      <td>13.9</td>\n",
       "      <td>0.07000</td>\n",
       "      <td>14.000</td>\n",
       "    </tr>\n",
       "    <tr>\n",
       "      <th>9</th>\n",
       "      <td>Roe deer</td>\n",
       "      <td>Capreolus</td>\n",
       "      <td>herbi</td>\n",
       "      <td>Artiodactyla</td>\n",
       "      <td>lc</td>\n",
       "      <td>3.0</td>\n",
       "      <td>NaN</td>\n",
       "      <td>NaN</td>\n",
       "      <td>21.0</td>\n",
       "      <td>0.09820</td>\n",
       "      <td>14.800</td>\n",
       "    </tr>\n",
       "  </tbody>\n",
       "</table>\n",
       "</div>"
      ],
      "text/plain": [
       "                         name      genus   vore         order  conservation  \\\n",
       "1                  Owl monkey      Aotus   omni      Primates           NaN   \n",
       "3  Greater short-tailed shrew    Blarina   omni  Soricomorpha            lc   \n",
       "4                         Cow        Bos  herbi  Artiodactyla  domesticated   \n",
       "8                         Dog      Canis  carni     Carnivora  domesticated   \n",
       "9                    Roe deer  Capreolus  herbi  Artiodactyla            lc   \n",
       "\n",
       "   sleep_total  sleep_rem  sleep_cycle  awake  brainwt   bodywt  \n",
       "1         17.0        1.8          NaN    7.0  0.01550    0.480  \n",
       "3         14.9        2.3     0.133333    9.1  0.00029    0.019  \n",
       "4          4.0        0.7     0.666667   20.0  0.42300  600.000  \n",
       "8         10.1        2.9     0.333333   13.9  0.07000   14.000  \n",
       "9          3.0        NaN          NaN   21.0  0.09820   14.800  "
      ]
     },
     "execution_count": 35,
     "metadata": {},
     "output_type": "execute_result"
    }
   ],
   "source": [
    "mammals.head()"
   ]
  },
  {
   "cell_type": "markdown",
   "metadata": {},
   "source": [
    "### Lets check out a scatter plot of body wieght and brain weight"
   ]
  },
  {
   "cell_type": "code",
   "execution_count": 36,
   "metadata": {
    "collapsed": false
   },
   "outputs": [
    {
     "data": {
      "image/png": "iVBORw0KGgoAAAANSUhEUgAAAXUAAAECCAYAAAAB2kexAAAABHNCSVQICAgIfAhkiAAAAAlwSFlz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\nHQAsQtQBwCJEHQAs8v9G3AxCh6/GHgAAAABJRU5ErkJggg==\n",
      "text/plain": [
       "<matplotlib.figure.Figure at 0x11ab466d0>"
      ]
     },
     "metadata": {},
     "output_type": "display_data"
    }
   ],
   "source": [
    "# create a matplotlib figure\n",
    "plt.figure()\n",
    "# generate a scatterplot inside the figure\n",
    "plt.plot(mammals.bodywt, mammals.brainwt, '.')\n",
    "# show the plot\n",
    "plt.show()"
   ]
  },
  {
   "cell_type": "code",
   "execution_count": 37,
   "metadata": {
    "collapsed": false
   },
   "outputs": [
    {
     "data": {
      "text/plain": [
       "<seaborn.axisgrid.FacetGrid at 0x11bd14550>"
      ]
     },
     "execution_count": 37,
     "metadata": {},
     "output_type": "execute_result"
    },
    {
     "data": {
      "image/png": "iVBORw0KGgoAAAANSUhEUgAAAWEAAAFhCAYAAACh/xvXAAAABHNCSVQICAgIfAhkiAAAAAlwSFlz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\nxBAmIlIRQ5iISEUMYSIiFTGEiYhU9P8BGuRqIexXRLoAAAAASUVORK5CYII=\n",
      "text/plain": [
       "<matplotlib.figure.Figure at 0x11bd14690>"
      ]
     },
     "metadata": {},
     "output_type": "display_data"
    }
   ],
   "source": [
    "sns.lmplot('bodywt', 'brainwt', mammals)"
   ]
  },
  {
   "cell_type": "code",
   "execution_count": 60,
   "metadata": {
    "collapsed": false
   },
   "outputs": [
    {
     "name": "stdout",
     "output_type": "stream",
     "text": [
      "                         name      genus   vore         order  conservation  \\\n",
      "1                  Owl monkey      Aotus   omni      Primates           NaN   \n",
      "3  Greater short-tailed shrew    Blarina   omni  Soricomorpha            lc   \n",
      "4                         Cow        Bos  herbi  Artiodactyla  domesticated   \n",
      "8                         Dog      Canis  carni     Carnivora  domesticated   \n",
      "9                    Roe deer  Capreolus  herbi  Artiodactyla            lc   \n",
      "\n",
      "   sleep_total  sleep_rem  sleep_cycle  awake   brainwt    bodywt  \n",
      "1         17.0        1.8          NaN    7.0 -1.809668 -0.318759  \n",
      "3         14.9        2.3     0.133333    9.1 -3.537602 -1.721246  \n",
      "4          4.0        0.7     0.666667   20.0 -0.373660  2.778151  \n",
      "8         10.1        2.9     0.333333   13.9 -1.154902  1.146128  \n",
      "9          3.0        NaN          NaN   21.0 -1.007889  1.170262  \n"
     ]
    }
   ],
   "source": [
    "log_columns = ['bodywt', 'brainwt',]\n",
    "log_mammals = mammals.copy()\n",
    "log_mammals[log_columns] = log_mammals[log_columns].apply(np.log10)\n",
    "print log_mammals.head()"
   ]
  },
  {
   "cell_type": "code",
   "execution_count": 39,
   "metadata": {
    "collapsed": false
   },
   "outputs": [
    {
     "data": {
      "text/plain": [
       "<seaborn.axisgrid.FacetGrid at 0x11b7cc210>"
      ]
     },
     "execution_count": 39,
     "metadata": {},
     "output_type": "execute_result"
    },
    {
     "data": {
      "image/png": "iVBORw0KGgoAAAANSUhEUgAAAWEAAAFhCAYAAACh/xvXAAAABHNCSVQICAgIfAhkiAAAAAlwSFlz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\nHUkICyGEjiSEhRBCRxLCQgiho/8HHfloukEClMwAAAAASUVORK5CYII=\n",
      "text/plain": [
       "<matplotlib.figure.Figure at 0x11b7ccb90>"
      ]
     },
     "metadata": {},
     "output_type": "display_data"
    }
   ],
   "source": [
    "sns.lmplot('bodywt', 'brainwt', log_mammals)"
   ]
  },
  {
   "cell_type": "markdown",
   "metadata": {},
   "source": [
    "## Guided Practice: Using Seaborn to generate single variable linear model plots (15 mins)\n",
    "Update and complete the code below to use lmplot and display correlations between body weight and two dependent variables: sleep_rem and awake.\n"
   ]
  },
  {
   "cell_type": "code",
   "execution_count": 40,
   "metadata": {
    "collapsed": true
   },
   "outputs": [],
   "source": [
    "log_columns = ['bodywt', 'brainwt',]  # any others?\n",
    "log_mammals = mammals.copy()\n",
    "log_mammals[log_columns] = log_mammals[log_columns].apply(np.log10)"
   ]
  },
  {
   "cell_type": "markdown",
   "metadata": {},
   "source": [
    "##### Complete below for sleep_rem and awake as a y, with variables you've already used as x.\n"
   ]
  },
  {
   "cell_type": "code",
   "execution_count": 41,
   "metadata": {
    "collapsed": false
   },
   "outputs": [
    {
     "data": {
      "text/plain": [
       "<seaborn.axisgrid.FacetGrid at 0x11c5077d0>"
      ]
     },
     "execution_count": 41,
     "metadata": {},
     "output_type": "execute_result"
    },
    {
     "data": {
      "image/png": "iVBORw0KGgoAAAANSUhEUgAAAWEAAAFhCAYAAACh/xvXAAAABHNCSVQICAgIfAhkiAAAAAlwSFlz\nAAALEgAACxIB0t1+/AAAIABJREFUeJzt3XmYVOWZPv77rFXVtXb1vrFvKkJkUQYQNaNRJ2Q0kcSM\nYzReRsSR/EwUg1sUEhFNgpOJGMUkGjTjTwxGzcRxIzoSFhFRQMFmx97ovatr6erazvn+UdVFN1s3\ndHWd6ur7c11e0kV31dMF3Bze87zvI+i6roOIiAwhGl0AEdFQxhAmIjIQQ5iIyEAMYSIiAzGEiYgM\nxBAmIjKQnO4XjEajuO+++1BbW4tIJIIFCxZgzJgxuOeeeyCKIsaOHYuHHnoo3WURERki7SH817/+\nFbm5ufjFL34Br9eLq666ChMmTMCdd96JadOm4aGHHsK6detw6aWXprs0IqK0S/tyxJVXXok77rgD\nABCLxSBJEnbv3o1p06YBAObMmYPNmzenuywiIkOkPYQtFgtycnLg9/txxx134Mc//jG6b9qzWq3w\n+XzpLouIyBCG3Jg7cuQIbrzxRnzzm9/E17/+dYji0TICgQAcDkevz8Hd1kSUDdK+Jtzc3Iybb74Z\nDz74IGbMmAEAOOuss7B161ZMnz4d69evTz5+KoIgoKkpc66YCwrsGVUPkHk1sZ5TYz2nlon1pELa\nQ3jVqlXwer347W9/iyeffBKCIOD+++/Hww8/jEgkgtGjR+OKK65Id1lERIYQBvMpapn2t2Im1QNk\nXk2s59RYz6llYj2pwM0aREQGYggTERmIIUxEZCCGMBGRgRjCREQGYggTERmIIUxEZCCGMBGRgRjC\nREQGYggTERmIIUxEZCCGMBGRgRjCREQGYggTERmIIUxEZCCGMBGRgRjCREQGYggTERmIIUxEZCCG\nMBGRgRjCREQGYggTERmIIUxEZCCGMBGRgRjCREQGYggTERmIIUxEZCCGMBGRgRjCREQGYggTERnI\nsBDesWMHvve97wEAqqqqcN111+H666/H0qVLjSqJiCjtDAnh3//+93jggQcQiUQAAMuXL8edd96J\nP/3pT9A0DevWrTOiLCKitDMkhIcPH44nn3wy+fGuXbswbdo0AMCcOXOwefNmI8oiIko7Q0L4sssu\ngyRJyY91XU/+2Gq1wufzGVEWEVHayUYXAACiePTvgkAgAIfD0aevKyiwD1RJZyTT6gEyrybWc2qs\n59QyrZ5UyIgQPvvss7F161ZMnz4d69evx4wZM/r0dU1NmXPFXFBgz6h6gMyrifWcGus5tUysJxUy\nIoQXL16Mn/70p4hEIhg9ejSuuOKKXr+mI9iJYLATFos5DRUSEQ0Mw0K4rKwML730EgBgxIgReOGF\nF07r68PhMJq9QTgiYTj7uHxBRJRpBvVmDUUxwd8JNDS19Li5R0Q0WAzqEAYASZahiWbUNrQiFA4b\nXQ4R0WkZ9CEMAIIgQFYtaGr1w+vzG10OEVGfZUUId5FVM7zBGJpa2rg8QUSDQlaFMADIsoIoVNQ1\ntCIajRpdDhHRKWVdCAPx5QlJtaC+uR0dwaDR5RARnVRWhnAXWbWg1dsJT7vX6FKIiE4oq0MYAGTF\nhI6wgHq2sRFRBsr6EAYAUZKgs42NiDJQRmxbToeuNrbGVh9cNjPsNmvKX0PTdWzceQQ1TQGUF1gx\na1IJREFI+esQUfYYMiHcRVEtaA+EEQq3Id+dm9Ln3rjzCN77tBYAsLfGAwC4cHJpSl+DiLLLkFiO\nOJasqAhrCmobWlLaxlbTFDjlx0RExxqSIQzEzzCWlHgbWzDYmZLnLC+wnvJjIqJjDbnliGPJqqXf\np7Fpuo53t3yJ6kY/yvOtsJhlVBTYMGtSSYqrJaJsM2hD+E9v74PdYsK4ChdsFqVfzxU/jS2KzlAr\nCvNzIZzmzbSNO4/gH58dQSSqAQC+el4Z14KJqE8GbQi/vaUGACAAKCuwYlyFC+OH5aKswHpGHQmS\nLEPTJdQ1tKLAbYeqqn3+Wq4FE9GZGrQh3EVHPPRqmgJ475NaWM1yIpBdGFvugsXU92+xa7tzQ4sP\nLnvf29jKC6w4VO/t8TERUV8M2hBeeecs/N8n9dhT5cG+Gg86wzEAQKAzik/3NePTfc0QBaCiyI4J\nw1wYV+FCsTunT0sNismC9o5In9rYNF2HDsBmURGORHH+hEKuBRNRnw3aEHbaVEwZV4Ap4woQ03RU\nN/qwp8qDPVUe1Ld2AAA0Hfiy3ocv6314+6NqOK1q8ip5dJkTJkU66fPLsoKwpqGuoQVF+S5I0ok/\nd+POI3j/01oosohIVIMgCNygQUR9NmhDuDtJFDCi2IERxQ5cfv4wtPtD2FPtwd5qD/bXtCOcuGHW\nHghja2UjtlY2QhIFjCxxYFyFCxOGuZDnNB93lSyKIiBaUNfYhjyXFTkWy3GvXdXgQ7MniEhMgyKJ\nqGrInGmwRJT5siKEj+W0mXD+WUU4/6wiRGMaDh/xYU91G/ZUedDcHu8Jjmk69te2Y39tO/73wy/h\ndpgwviIX44e5MLLEAUU+2kKtmHLQ6u1EMBhCntvV47UO1/sQ6Ixv+AhHNGz5ogHXXjoWsjhkW7CJ\n6DRkZQh3J0sixpQ7Mabcia//E9Di7cSeKg/2VrfhYJ0X0Vj8ZLVWbwibd9Vj8656KJKI0WUOjBvm\nwvgKF3LtZsiKCSFNQ219CwrzHFCUeFtcmz/U4/X8wShW/28lbp57dtq/VyIafAZtCMuShGg4CE3T\nIYgSJFmJLx/0Is9hxsyJxZg5sRjhaAwH67yJteQ2ePzxE9YiMQ2VVR5UVsXPfyjMtWB8Yi15eLEd\n9c1eOK0mOBw2qPLx679fVLWl9psloqw1aEPYZrOivDi+1huJRNAZCiEajSCm6YhpOjRNRzSmQYcA\nWTGdMKBVWcKEYbmYMCwXuj4CjZ4g9ibC98t6H7TE+cONbUE0tgXxj51HYFIkjCl3YlyZA+PK/ZDF\n488ojkY1/P/r9vEkNSLq1aAN4e4URUkuDxwrFouhszOEcCQCTY+vBUdjGmKJgBZEGbIsQxAEFOXm\noCg3BxdOLkVnOIr9Ne2JpQsPfMEIACAUiWHXoVbsOtQKANB1DboWgyCIEMR4B0VM07G3xsOT1Iio\nV1kRwqciSRKs1hycaPuErusIh8MIhcOIRGPxgI5qiMZ0SJKEs0fkYuKoPGi6jvqWDlRWtWFvtQfV\nDX50Xf8KgghBEpPPp2sxBIIxKLIIp83E3XNEdEpZH8KnIggCTCYTTCbTcT8XjUYR7OxEJBJBTNdQ\nmiuhyJmHC89xwx/ScPBIAAdqfdi+v7nH8wlS/C1t84XQ7u+EVQU+338Eo8tcMJuPb4MjoqFtSIfw\nqciyDLvNdsKf0zQNI4odmH1OPj7eXQ0IIkRRhCDKyZAVBAE6BOyu8mF31RewWxSMKbdjXJkd4yoc\nsFsUqIoMa47lpBtBiCj7MYTPgCiKsJjNif8siMTvDyIWDUPXYhBFGaLcc43aF4zg032t+HRfK0RB\nwIgSO8ZVuDCq2IJCpwpFkaDKEiRRgCSJMJtMJ13nJqLswRDup1i35ghJjp+8pmsxiFon8lxWuOxW\n1LUGEQpHkz3Jmq7jYJ0XB+vih/7k2k3J7dSjSh1QJAGtPh8+qWxAoyeIsvwczJhYDJMiw2wyJW8k\nEtHglzEhrOs6lixZgj179kBVVSxbtgwVFRVGl9UrQRAAvWebmiBKGD88D18ZnYtNO2qgaxpsZgWq\nKsFqVqAqIg7WehGJxS+h23whbNndgC27GyCKAhw5CmwWBaFIDIosobqlHZDMmDIuHx6/P3G1LUAU\nBciSCFEAJEmEJApQFQWqqvapZ5qIjJcxIbxu3TqEw2G89NJL2LFjB5YvX47f/va3RpfVqwKnGfVt\nweMez7WZYDaZ4AsJ6Aj4EVJMsMOM2eeWYNqEQkSiGg7WtWNvdTv2VLWh1RffeadpOjz+cHLjiCwJ\nMCkSKqva8JWx+VDUnjcRtcR/0RigR3W0d4SgaQEIuo5gJIT29g5IohAPalGAIitQVYVX00QZImNC\neNu2bbjwwgsBAJMnT8bnn39ucEV9c/n5FVj99t7jHq9pCsBqUWGzqhDEXAQ6/HBZBUwZXwAAUGQR\n44flYvywXMydORzN7Z14df1B1LUEEO5aZAYQjemIxqLYfbgNDz//McaUOTG+In40p9PWM5AFQUis\nI8fXkiXFDIgxxBBfNonEgI6IhpjPD02LJYNZFAVIoghZEiFJAmRZhklVecOQKA0yJoT9fj/sdnvy\nY1mWoWlaxv+z+sKvlOHNLVVo9BwdFioAqCi0obzAir01HthyFNhycjF7YgG0SCcEpWermiAIKHBZ\nMGVcAcK7NWiajlAkBkkQ4O0IJ0+BC0c07D7cht2H49uii905GD8svpZcUWiHJPZ+ZSuKIkT1+Ja8\nGIBY4rI6GoxA04KArkEUhGRQH136kGBS4xtkMv3XhyjTZUwI22w2BAJHNzb0JYALCuyn/Pl0eWrx\npbj/6Y04UNMOURIwc2Ix/r9rp0AUBdjtZhyu92JEsQP/PH0YBAGob2xFRJMgyT3f/ktnjIDVqqK2\nyY+yAhv+6dxSCAJQ2+TH5wda8PmBZhyobU8uQde3dqC+tQMfbK9DjknG2aPcmDg6H+eMyoM9J36T\n0O1O/ZQPXdcRiUQQDochQE+uR3f9X5biV+Rmkwr5mO8xU37NurCeU2M9A0/Qdf34ww8M8M477+D9\n99/H8uXLsX37dvz2t7/FM888c8qvaWrKnLN7Cwrsp1WP1+tHe0cYimo+rdcJhqLYVxM/vH5PtQcd\niWM0uxMAlBfa8JVxBagosKI0/8zm7vVHLBaDpkWhx47eRCwqdKCt1R8PaVmB6QQhnU6n+2s20FjP\nqWViPamQMVfCl112GTZu3Ijvfve7AIDly5cbXNHAcjhsUE0hNLX6Iat930lnMcmYNDofk0bnQ9N1\n1DYFsCexnbpri7QOoLrRj+pGPwDAalEwvsKJcRW5GFvuPK25e2dKkqT4mnK3VucYFEShIhoDAuEY\nYj4voGtHlznE+Jq0IktsxaMhI2OuhM9Epv2teCb16LqOhuZWxHTluOWJ0+XrCGNfTbzbYl9Ne3Lu\nXneiAAwrtieO5sxFUa4lbUHndlvR2tr7WRqapiEWjUDXYpAkEaIIKJKYDGlVUWAymfpddyZeWbGe\nk8vEelIhY66EhypBEFBckId2rxfeYAiKcvxNs76y53Sfu6fBE4xi6+f12FPVhoZEG52mA4eP+HD4\nyNG5e+MTh9eP6mXuXrqc6OZhFEBUA/TY0TY8sft6tBi/glYUdnbQ4MIQzhBOhwMmNYSmNj8U0/Gz\n7E6XJIoYW5GLPKuKKy4YBo8/hL3V8bXkA7U95+599EUjPvri6Ny9rlDOd/W/jlQ7tg0PiC+/RAFE\no4CvMwIt1gEBgCQJiRuF8eUOWZZgMZsNXYcmOhZ/N2YQs9mEsiIFDc1t0ITUXs25jpm7d+iIN3lz\nr+UEc/fe2Pwl8hxmjBsWH4Q6orjn3L1MJcsy0C1kdQARPf6DYKcGT8AXX+YQRYRjYbR7ApCkeI+0\nSVWhqirXoSmtGMIZRhRFlBTmodXTjo5QFHI/lidORpZEjC13YWy5C3MBtLR3Yk91fMTToSNH5+61\neDux+fN6bP68HoosYnSpM9mX7LKlvq6BJooiRLFb3ZIJMSGKmAaEYjq8gSBimi9+1ZzYuBK/ko73\nRXM7OA0EhnCGcrucMAeDaPEEoJhyBvS18pxmzHQm5u5F4nP3ug6wT87di2qorGpDZWJ+3tG5e7kY\nXmyDNMjDSRAEyKoKGWryMQ3xNfRIFPB1hhGLxdeh4wGdWOLIkHY7Grz4uyaD5VgsMKkqGpo9gHTi\nOXmppioSJgzPxYThufHOjbZgYi25LTF3L/553efumVUpvp16WHw7dddGkWwiy3KPkO1+ZkdXu52u\naZATV8+SKEKW48scbLejU2EIZzhJklBalIeWVg86I4CkpC/gBEFAsTsHxe4czEnM3dtX0469ibVk\nf2LuXmc4hs8PteLzxNy90nxr8uZeeYENYh+2Uw9myZ7obmIAYjEgGNF6nHzXtaNQlqSUttvR4MUQ\nHiTy3C74Ax1o8wZT0j1xJsyqjHNH5eHcxNy9Iy0d2FPVhj1VHtQ0Hp27V9ccQF1zAO9/Uosck5w8\nK3n6udl3hdybE7XbdZ3TcWy7XWc0hHZPB9vthhhu1kiRdDWSRyIRNLR4ISm977Lr6+aIVAh0RrCv\nuh2VVW3YV+NBMHT8RhFBiB9sNGFYLsZVuFCSl2PoFWA635++OLaeaDQKLRYBdD1+ul3ybI74mvRA\nt9tl4uaITKsnFXglPMgoioKyIjeaWz0IRUTIGTICyWpW8JWx+fjK2HzENB01jf74VXK1B0daOgDE\nz76vavCjqsGPd7ZWw5GjYNywXIyvcGFMmRMmlVd83Z2o3S6K+Dq0FtHg8fug6/F2O1EEZFGAnBiR\nxXa7wYMhPAgJgoCCvNzEIUCdp30I0ECTRAHDi+0YXmzH184fBm8gjL3VHhyq92H3oVaEIvGrZG9H\nBB9XNuLjysbk18TXknNR4OJk6lM56TJH4nB/ttsNHgzhQaz7IUBGrRP3hcOqYtqEQnxt5kg0Nvnw\nZYMvvlGkyoMmT3w7dUw7OnfvzQ+rkGs3JVrgXBhZ6oAq8yq5r/rabicJ6DEai+12xuA7PciZTQO3\ny24gyFJ808foUif+ZcZwtHrjG0X2VnlwoK49uVGkzRfCh7sb8OHuBsiSgNGlToxLdFy4HZl15T/Y\nHNtu132Zo/vpdsFIKL6jkO12A4ohnAXSsctuoLgdZvzTOcX4p3OKk3P3urZTtyXm7kVjenxHX7UH\n/wOgwGXG+IpcjB/mwvBiO2SJ/6xOle7tdpJiBqRYcpmjM6qfsN2uK6TZbndmGMJZxO1ywtTRgdZ2\n49rY+qP73D1d19HU3plsgfuy3odYYqdIk6cTTZ4j2PDZEaiKmNgoEu+4cFqHXhtcugiCcNyg2a75\nhaFwz3a7rhuEXWvSqqqw3e4kGMJZxpqTA1VR0Njiha4P7HbngSQIAgpdFhS6LLhwUnyjyIFab2Lp\nog3ejvhGkWPn7pXk5SS3U5cX2vo0d4/670Sn23XfVej3HT3dThSRbLeTEh0dQ/l0u6H5XWc5RVFQ\nWuSGLkQQjUYgy5nRxtYfZlXGOSPdOGekG7quo761I3lzr6rRl5y7d6SlA0daOvB/2+tgMUkYWx6/\nuTe23AWbZfC/D4PVSdvttMTpdol2O1EQIMsipMQNw+6n22UrhnCWEgQBhQVu+L0heDs6IWdYG1t/\nCIKAkjwrSvKsuPi8MnR0Hp27t7fag45QfO5eMBTDzgMt2HmgJTl3r2s7dUl+6geg0pk51a7C7qfb\nBSNheDyB5Pkc2dJuxxDOcoOlja0/cswyJo/Jx+Qx+dA0HbXNflQmArn2BHP31n1cA5tFwblj8jGi\nyIax5U6YVf5RyETd2+1k1QxRjp30dLuupY3BdrpdZldHKdHVxtbY0oYYsvvmiCgKqCi0o6LQjsum\nVcDXEd8osqfag/3d5u75gxFs/uwINn8GiIKA4cW2ZMdFYRrn7lH/9OV0u+7DZGVJis8szKBhsgzh\nIUIURRQX5KHN047AIGtj6w97joqp4wsxdXwhYpqGqgZ/ctmivjW+nVrTdRw64sOhIz689VEVXDY1\ncehQLkaXOqBmwNw9On0nOt0uCgAaEAqdoN1OFiEl1qTT2W7HEB5icl1OmIJBtLZ3QFazc3niZCRR\nxMgSB0aWOHDFBcMAScKWz+qwt9qD/bXtiCTm7nn8PefujSp1JLdT5zmzZ219KOtru13XDUJRQPLw\npK52u1RhCA9BORYLVEVBQ0s7RHnontHgdppxwdlFuODsIkSiGg7Xn3ju3r6aduyracff8CXynOaj\n26lLHNwokoVOOUy2W7tdINSB0cNL+/16DOEhSpZllBYmTmOLilnRxtYfitxz7l5zezC5bHGwzpvc\nKNLS3olN7fXY9Hk9VFnE6DJn8rzkwTh3j05fV7udkKKODIbwEJY8jc3nhzeQXW1s/ZXvtCD/XAtm\nnVuCcCSGA3Xe5O699kB87l44quGLL9vwxZfxjSJFuZbEjj8XhhXZuVGE+oQhTHDYbTCZwmhq9Q25\ndeK+UBUJZw3PxVnd5u51nZVc1W3uXkNbEA1tQazfUQezKmFseXw79dhyZ1bO3aPUYAgTAMCkqigt\nzEVjSxs0qBCzuI2tP7rP3bvoK2UIhhJz96rjSxfd5+59drAVnx2Mz90rK7Am15LLCmwQh+g6PB2P\nIUxJXW1snnYv/KEwZJlXb72xmGRMGp2HSaPjc/fqmgPJteTuc/dqmwKobQrgvU9qYTXH5+51/Wcx\n8Y/hUMZffTqOy+mAOkTb2PpDFASUF9hQXmDDP08thz8Ywb5qDyqrPNhfe3TuXqAzik/3NePTfc0Q\nBGBYkR3jK1w4f2IJLLIwZLtVhiqGMJ1Q9zY2QTIN6r35RrFZFJw3rgDnjStIzt2rrGrD3mPm7n1Z\n78OX9b743D1rfKPIhGEujC7l3L2hwLAQfvfdd/HWW29hxYoVAIAdO3Zg2bJlkGUZM2fOxMKFC40q\njRJkWUZZUR6aWtrYxtZP3efuXX7+MLT7Q9hb0449VW3YX9uOcCS+UcQbCPeYuzeixJ7cTp3vHLo9\n3dnMkBBetmwZNm7ciLPOOiv52EMPPYSVK1eivLwc8+fPR2VlJSZMmGBEeXSMgrxc+PwBeHyD87D4\nTOS0mTB9QiGmTyhENKbhcL0PXzb6sXNfE5o8RzeKHKj14kCtF//74Zdw203JEU+jSp1QZP7rJBsY\nEsJTpkzBZZddhjVr1gAA/H4/IpEIysvLAQCzZ8/Gpk2bGMIZxG6zQlUVNLX6ICm8IkslWYpPBzn/\n3FL883llybl7e6o8ONht7l6rL4QPdzXgw10NUCQRo8ocyY6LXDt7vAerAQ3htWvXYvXq1T0eW758\nOa688kp89NFHyccCgQBsNlvyY6vVipqamoEsjc6ASVVRVuRGQ3Mr29gGUPe5e+FoDIfqvKis8mBP\nVRs8/vhGkUhMSx5qj41AYa4F4xPdFpy7N7gMaAjPmzcP8+bN6/XzrFYr/H5/8uNAIACHw9Hr1xUU\n2PtVX6plWj3AwNRUWOhAq8cLbyBy3CEovXG7M+sw9cFQT3GhA//0lfL4RJGWDnx2oBm7DrRgX40H\nWmKnSGNbEI1tQfxj5xGYVQlnjXBj4uh8nDMqDy77mW+nHgzvj1FCncGUPE9GdEfYbDaoqorq6mqU\nl5djw4YNfbox19TkS0N1fVNQYM+oeoCBrkmAGNPQcKQJiqlvs+zcbitaWwMDVM/pG4z1mERg2th8\nTBubj85wFPtrvdib2L3n6zi6UeTTvU34dG8TAKA0LwfjhuVifIULFYU2iH3cTj0Y3590suZk2dkR\nS5cuxaJFi6BpGmbNmoVJkyYZXRL1wmIxo1RVUN/sYRubAcyqjIkj3ZiYmLt3pCUxd6+6DdWN/uTc\nvbqWDtS1dOD/Pq2FxSRjXIUT4ytyMbbCCauZHS9GE3S965dq8MmkK8+hdyXcU3NrGzojAmTl5Lvs\nMu1KJpvr6eiMYG9NO/YeM3evux5z94bloiQvp8d26mx+f1LBmiNiVEVBv58nY66EaXDLdyfa2PxB\nKNxlZ7gcs4KvjMnHVxJz92qa/MmOi7rmE8/ds1uU+FbqYS6MLXca+w0MIQxhShm7zQqTqqCRbWwZ\nRRQFDCuyY1hRfO6etyOMfYlA3lfTjlAkvp3aF4xg294mbNvbBFEQMKbCidElDowb5kKhi3P3BgpD\nmFJKTbSxNTa3IqorkDJ80u1Q5Dhm7t6X9X7srW5DZZUHjW3xO/6arseXMqo8eHNLfO7e+MTNvVFl\nDqgy2xNThX9CKOUEQUBRQR7avV54gyEoQ2So6GAkiSJGlTowqtSBKy4YjjZfKD6dusqDg0eObqf2\n+MPYsrsBW3Y3QJbic/fGJbZT5zm4UaQ/GMI0YJwOB1SlE80ef5/b2MhYuXZTcu6e3WHGtl31ibXk\nNrR6QwCAaEzH3up27K1ux982AfmJuXvjOHfvjDCEaUB1tbE1NHugabxhN5gospQ88/gbM0eg2RNM\n3tw7dOTo3L3m9k40t9djY7e5e+MTZ1w4OXevVwxhGnCSJKG0KA+6EEU0Ej5lGxtlrnyXBfmu+Ny9\nUCSGg7XtqEy0wJ1s7l6xOwfjh8WDnHP3TowhTGlTmJ8Lvy/ENrYsYFLiW6PPGuHuMXevssqD6oaj\nc/fqWztQ39qBD7Z3zd1zJUPZZuFGEYAhTGmWbGNr8UJS2faUDU42d29P4gD7QGd8o0h87l4LPjvY\nAgGJuXuJjovSAuuQnbvHEKa0U1UVZcV5bGPLUsfN3WsKJCeK1DYFoCO+UaSmKYCapgD+vq0mOXdv\n/DAXxpYPrbl7Q+c7pYzCNrahQRQElBfaUF5ow6XTKnrM3dtX40Fn+Pi5e2LX3L3EskWxOyer/8XU\nawh//PHHWL16Ndrb23s8/vzzzw9YUTR0sI1taDl27l5Vgy/Zl1zfGp+7p+nA4XofDtf78PZH1XAm\n5u5NPbsYRU4TTEp2bRTpNYTvueceLFy4EKWlpemoh4ag7m1s4GlsQ4YkChhZ4sDIEsfRuXvVHuyp\n9mB/TTvC0fhGkfZAGFsrG7E1MXdvZIkj2QKXlwVz93oN4aKiIlx99dXpqIWGsK42tpZWD4IRsI1t\nCHLaTJh+VhGmn1UUn7t3xIc91W3YU+VBc/vRuXv7a9uxv7Ydb2z+Em6HKTkIdWSJY1DO3ev1KMu3\n3noL69atw4wZMyB3u4GSCcGcSUdHDvWjLPuir/XET2PrHPA2tkw7GpH1nFyLtxM1zR34dE8DDtZ5\nk3P3ulMkEaPLHIlhqLnI7cdEkb5I21GWL774IgBg27ZtPR7PhBCm7GS3WWE2qWhobmcbGwEA8hxm\njB2Rh8mj3AhHYzhY6012XHSfu1dZFb/pBxxOzt0bPyw+d0/K0GWuXkO4qakJb775ZjpqIUpSFCXR\nxtaGqC6oRMvjAAAe4ElEQVSzjY2SVFnChOG5mDA8F7quo9ETxJ7Ezr3DR3zQ9OPn7pkUCWPKnckz\nLhw5mbPc1evv7GnTpuH999/HhRde2GM5gmigxdvY3Gj3euELhiCzjY2OIQgCinJzUJSbgzmTS+Nz\n92rasac6fgynLxifuxeKxLDrUCt2HWoFAJTmW5NXyeUFfZ+7NxB6TdX3338ff/7znwHEv2Fd1yEI\nAr744osBL44IiLexmdQQmj1+yNzuTKdgVmVMHJWHiaPiG0Xic/fiN/dqGv3oWkmuaw6grjmA9z+t\nRY5JTk4UGVfuRE6a5+71GsIbNmxIRx1Ep2Q2m1BaqKChuQ26yDY26p0oCCjLt6Is34qvTilHoDPS\nbTt1O4KJuXsdoSi272/G9v3NEASgotCW7LgoyRv4jSK9hnA4HMazzz6LQ4cO4ac//Sn++Mc/Yv78\n+VDVzFlToaFBFEWUFMbb2DojgMQ2NjoN1hPM3aus8mBvVRvqWuIbRXQdqGrwo6rBj3c/roY9R0ms\nI+diTJkDZjX1S7K9PuPPfvYzuN1u7Nq1C5IkoaqqCvfffz9++ctfprwYor7Ic7vgD3SgzcfT2OjM\ndJ+797XpFfAGwj02iiTn7nVE8PGeJny8Jz53b0SJPXlzb1SOLSW19BrCu3btwquvvor169fDYrHg\nsccewze+8Y2UvDjRmbJZc2BSFTS0eDlUlPrNYVUxbUIhpk0oRDSm4csGH/ZWxUO5+9y9g3VeHKzz\n4s0tVfivH81MyWv3GsKCICAcDid/k7e1tfE3PGUERVESQ0XZxkapI0siRpc6MbrUiStnDEebrxN7\nEoF8sNaLSExL7ev19gk33HADbrrpJjQ1NWHZsmVYt24dbr/99pQWQXSmutrYvF4/vGxjowGQazdj\nxjnFmHFOMSJRDYeOxDeKpEqvITxnzhxMnDgRW7ZsQSwWw1NPPYUJEyakrACiVHA4bFDZxkYDTJHF\n5Ny9VOk1hP/93/8db775JsaMGZOyFyUaCGxjo8Go1xCeMGECXnvtNUyaNAlmszn5OI+2pEzU1cbW\n2taOYDjKNjbKeL2G8I4dO7Bjx44ejwmCgL///e8DVhRRf7lznQh0dKC1PQjFxOUJyly9hvB77713\n0p9bs2YNrr322pQWRJQq1pwcqArb2Ciz9WvR7KWXXjrtr/H7/ViwYAG+973v4bvf/W7yKnv79u34\nzne+g+uuuw4rV67sT1lESV1tbJIeQiwaNbocouP0K4R7OQ/+hJ577jnMnDkTL7zwApYvX46lS5cC\nAJYsWYLHH38cL774Inbu3InKysr+lEaUJAgCCvPdsJtFRCMho8sh6qFf3e1n8s+7m266KXnuRDQa\nhclkgt/vRyQSQXl5OQBg9uzZ2LRpE1vhKKUcDhtUUwhNrX6uE1PGGNAtRmvXrsXq1at7PLZ8+XJM\nnDgRTU1N+MlPfoL7778fgUAANtvRfdhWqxU1NTUDWRoNUWaTCWVF8Ta2WMzc+xcQDbABDeF58+Zh\n3rx5xz2+Z88eLFq0CIsXL8a0adPg9/vh9/uTPx8IBOBwOHp9/oICe0rr7a9MqwfIvJoypZ6iIiea\nWz3QbAqUDDoR0O22Gl1CD6zn5EKdwZQ8T79C2G4//T9Q+/fvx49+9CP8+te/xvjx4wEANpsNqqqi\nuroa5eXl2LBhAxYuXNjrcw3GIZbplGk1ZV49Lvi/bEBDizcjlicyabAmwHp6Y81JzWagXkPY6/Xi\nN7/5DbZs2QJZljFnzhzcdtttMJvNeP7550/7BR9//HGEw2EsW7YMuq7D4XDgySefxJIlS7Bo0SJo\nmoZZs2Zh0qRJZ/QNEZ2Orja2xhYvRLaxkQF6HXl/6623YtSoUbj66quh6zpeeeUVtLa2YsWKFemq\n8aQy66oqs67ygMyrKZPr0XUdza0ehKIiZCW94226ZNqVHus5tbSNvK+trcWqVauSH99///2YO3du\nv1+YKJMIgoCCvFx4vX60d3RCUXnTjtKj10WN4cOH4+OPP05+XFlZieHDhw9oUURGcThsKMi1IhJK\nzU0Xot70eiVcVVWF66+/HiNHjoQkSTh06BCcTie++tWv8gwJykrd29g0QYUkSUaXRFms1xB++umn\n01EHUUZJnsbmaUdHKMrD4mnA9LocUVZWhk8++QQvv/wy3G43tm7dirKysuR/RNnM7XIi127i8gQN\nmF5D+Fe/+hU++OADvPPOO4jFYnjllVfw6KOPpqM2ooxgzclBcb4DsXDwjM5LITqVXkN4w4YN+OUv\nfwmTyQSbzYbnnnsO69evT0dtRBlDURSUFrkhI4xoNGJ0OZRFeg3hrhExXU3s4XCYY2NoSOpqY3NY\nJETDnUaXQ1mi1xtzV1xxBX70ox+hvb0df/zjH/HXv/6VfcI0pDns8aGiPI2NUqHXEJ4/fz7+8Y9/\noLS0FEeOHMEPf/hDXHLJJemojShjdbWxNba0IQa2sdGZ69O6Qk5ODoYNG4Y777yzx5GTREOZKIoo\nLshDjqLxsHg6Y72G8OrVq/HrX/8af/zjHxEMBvHggw/iD3/4QzpqIxoUchNtbNEw29jo9PUawq++\n+ir+8Ic/wGKxwOVyYe3atXjllVfSURvRoBFvY3MiFmEbG52ePnVHqN0OvTaZTFz/IjoBWZZRWsg2\nNjo9vd6YO//88/HYY48hGAxi3bp1WLNmDWbMmJGO2ogGna42Np8/gHZ/J2Sexka96PVK+Cc/+QmG\nDx+O8ePH47XXXsNFF12ExYsXp6M2okHLbrOiwG1DlLvsqBcnvRKuq6tL/njOnDmYM2dO8uPGxkaU\nlpYObGVEg5xJVVFW5EZDcys0qBC5jEcncNIQvv766yEIAnRdP+HIFx5hSdQ7QRBQXJAHT7sX/lAY\nspw5Q0UpM5w0hN977z0AwI4dO7Bt2zZcf/31WLBgAXbt2oWlS5emrUCibOByOqAGg2jxBKCYcowu\nhzJIr2vCy5Ytw7nnnot33nkHZrMZr732Gn73u9+lozairJJjsaCkwIVYJAhN04wuhzJEryGsaRqm\nT5+O999/H1/72tdQUlKCWCyWjtqIso4syygryoMqRtjGRgD6EMIWiwXPPvsstmzZgksuuQSrV6+G\n1WpNR21EWSvfnQtnjszD4qlvh7p3dHTgN7/5DZxOJxobGzNi3D3RYGe3WVGYZ2cb2xDX62aNoqIi\nLFy4MPnx3XffPaAFEQ0lXW1sjc2t0GI8FnMo4unsRAYTBAFFBXmwmQVEeBrbkMMQJsoQuS4H8h0W\nREIdRpdCacQQJsogFosZpYW50NjGNmQwhIkyjCRJKO1qY4uEjS6HBhhDmChD5btz4bQqiPCw+KzG\nECbKYHabFUVuO2JsY8tavbaopVowGMRdd90Fr9cLVVXx6KOPorCwENu3b8cjjzwCWZYxc+bMHm1x\nREOZqqooTbSxRXUFkpz2P7Y0gNJ+Jfzyyy9j4sSJ+NOf/oRvfOMb+P3vfw8AWLJkCR5//HG8+OKL\n2LlzJyorK9NdGlHGOtrGBraxZZm0/5V64403Jv9ZVVdXB4fDAb/fj0gkgvLycgDA7NmzsWnTJkyY\nMCHd5RFlNKfDAVXpRLPHz9PYssSAhvDatWuxevXqHo8tX74cEydOxI033oh9+/bh2WefRSAQgM1m\nS36O1WpFTU3NQJZGNGhZLGaUqgoamj2AZIIo8tbOYCboBq72Hzx4ELfeeitee+01fOc738Ebb7wB\nAHj++ecRi8Vw0003GVUa0aDQ2NyGjrAOReFh8ekW6gxiVEVBv58n7csRzzzzDIqKinDVVVchJycH\nkiTBarVCVVVUV1ejvLwcGzZs6NONuaYmXxoq7puCAntG1QNkXk2s59TOpB4BMrRQAA0tXihqas+e\ncLutaG0NpPQ5+yPT6rHmpOZfIGkP4WuuuQaLFy/G2rVroes6Hn30UQDxG3OLFi2CpmmYNWsWJk2a\nlO7SiAYlu80Kk6qgscULSbWccBwZZa60h3BeXl6yI6K7yZMnY82aNekuhygrqKqKsuI8NDa3IarL\nbGMbRLiiT5Ql4m1sbraxDTIMYaIs43Q4UODM4WlsgwRDmCgLmc0mlBW5oUd5GlumYwgTZSlRFFFS\nmAeTGEWMp7FlLIYwUZbLc7vgtKk8jS1DMYSJhgCbNQfFeQ4OFc1ADGGiIUJRFJQVuSFqIcSiUaPL\noQSGMNEQ0tXGZjeLiLKNLSMwhImGIIfDhnxnDqJcJzYcQ5hoiDKbTSgtzGUbm8EYwkRDWFcbm1mK\nsY3NIAxhIoI71xlvYwtxeSLdGMJEBCDRxpbPNrZ0YwgTUVJXG5uks40tXRjCRNSDIAgozHfDaZUQ\nCXcaXU7WYwgT0Qk5HXYU5Fq5TjzAGMJEdFJmkwllRfE2tlgsZnQ5WYkhTESn1NXGZlE07rIbAAxh\nIuoTt8uJXLuJyxMpxhAmoj6z5sTb2GJsY0sZhjARnRZFUVBa5IaMMKKRiNHlDHoMYSI6bYIgoCAv\nFw4L29j6iyFMRGfM4bCxja2fGMJE1C9sY+sfhjAR9Rvb2M4cQ5iIUoZtbKePIUxEKcU2ttPDECai\nlOvRxhZlG9upMISJaEB0b2OLso3tpBjCRDSgHHYb8tnGdlKGhfCBAwcwbdo0hMPxuVbbt2/Hd77z\nHVx33XVYuXKlUWUR0QDoamNDjG1sxzIkhP1+P37xi1/AZDIlH1uyZAkef/xxvPjii9i5cycqKyuN\nKI2IBogoiiguyINV1dnG1o0hIfzggw/izjvvhNlsBhAP5UgkgvLycgDA7NmzsWnTJiNKI6IB5nI6\n4HaYEQ1zeQIA5IF88rVr12L16tU9HistLcXXv/51jB8/Ptm+EggEYLPZkp9jtVpRU1MzkKURkYFy\nLBaoioKGlnaIshmCIBhdkmEEPc2NfJdffjmKioqg6zp27NiByZMn46mnnsK1116LN954AwDw/PPP\nIxaL4aabbkpnaUSUZrquo7G5DZ1RAbKsGF3OaQl1BjGqoqDfzzOgV8In8vbbbyd//NWvfhXPPvss\nFEWBqqqorq5GeXk5NmzYgIULF/b6XE1NvoEs9bQUFNgzqh4g82piPac2VOsRoSDWGUCr3wtZNZ/0\n89xuK1pbAwNeT19Zc1Kzmpv2EO5OEITkksTSpUuxaNEiaJqGWbNmYdKkSUaWRkRpZLdZoaoKmlp9\nkJShtTxhaAj//e9/T/540qRJWLNmjYHVEJGRTKqK0sJcNLa0QYMKUZKMLiktuFmDiDJGVxtbjqoj\nGg0bXU5aMISJKOO4nA647aYh0cbGECaijJRjsaA434lYJAhN04wuZ8AwhIkoY8myjLKiPChCJGtP\nY2MIE1HGK8jLRa5NzcpDgBjCRDQoOOxWFObZEc2yw+IZwkQ0aJhUFWVFbohaJ7QsOY2NIUxEg4og\nCChKtLFFsuA0NoYwEQ1KLqcD+Q4LIqEOo0vpF4YwEQ1aFosZpYW50AZxGxtDmIgGNUmSUFqUB1WM\nIBoZfLvsGMJElBXy3blwWhVEBtkuO4YwEWUNu82KIrcdsUHUxsYQJqKsoqoqShNtbLFo1OhyesUQ\nJqKs09XGZjMj49vYGMJElLWcjsxvY2MIE1FWy/Q2NoYwEWW9TG5jYwgT0ZCRiW1sDGEiGlIyrY2N\nIUxEQ87RNraQ4W1sDGEiGpLibWxuw9vYGMJENKQZ3cbGECaiIa+rjU2Ppr+NjSFMRIR4G1tJYR7M\nUgyxNLaxMYSJiLpx5zrhtKlpa2NjCBMRHcNmzUFxniMtQ0UZwkREJ6AoSmKo6MC2sTGEiYhOoquN\nzW4WEB2gNjaGMBFRLxwOO/KdOYgOwDqxnPJn7IM5c+ZgxIgRAIDzzjsPP/7xj7F9+3Y88sgjkGUZ\nM2fOxMKFC40ojYjohMxmE0oLFTQ0t0EXTUjVNWzaQ7iqqgrnnHMOnnrqqR6PL1myBCtXrkR5eTnm\nz5+PyspKTJgwId3lERGdlCiKKCnMQ2tbO6KR1PQTp3054vPPP0dDQwNuuOEG3HrrrTh8+DD8fj8i\nkQjKy8sBALNnz8amTZvSXRoRUZ+4c50oLcpNyXMN6JXw2rVrsXr16h6PPfTQQ7j11ltx+eWXY9u2\nbVi0aBGefPJJ2Gy25OdYrVbU1NQMZGlERP1is+ak5HkGNITnzZuHefPm9Xiss7MTkiQBAKZOnYqm\npiZYrVb4/f7k5wQCATgcjl6fv6DAntqC+ynT6gEyrybWc2qs59QyrZ5USPua8MqVK+FyufCDH/wA\nlZWVKCkpgc1mg6qqqK6uRnl5OTZs2NCnG3NNTb40VNw3BQX2jKoHyLyaWM+psZ5Ty8R6UiHtITx/\n/nzcfffd+OCDDyDLMpYvXw4gfmNu0aJF0DQNs2bNwqRJk9JdGhFR2qU9hB0OB1atWnXc45MnT8aa\nNWvSXQ4RkaG4WYOIyEAMYSIiAzGEiYgMxBAmIjIQQ5iIyEAMYSIiAzGEiYgMxBAmIjIQQ5iIyEAM\nYSIiAzGEiYgMxBAmIjIQQ5iIyEAMYSIiAzGEiYgMxBAmIjIQQ5iIyEAMYSIiAzGEiYgMxBAmIjIQ\nQ5iIyEAMYSIiAzGEiYgMxBAmIjIQQ5iIyEAMYSIiAzGEiYgMxBAmIjIQQ5iIyEAMYSIiA8npfkFN\n07B8+XLs2rUL4XAYP/zhD3HRRRdh+/bteOSRRyDLMmbOnImFCxemuzQiorRLewi//vrriMViePHF\nF9HQ0IC3334bALBkyRKsXLkS5eXlmD9/PiorKzFhwoR0l0dElFZpD+ENGzZg7NixuPXWWwEADzzw\nAPx+PyKRCMrLywEAs2fPxqZNmxjCRJT1BjSE165di9WrV/d4zO12w2QyYdWqVdi6dSvuvfderFix\nAjabLfk5VqsVNTU1A1kaEVFGGNAQnjdvHubNm9fjsTvvvBOXXHIJAGD69Ok4fPgwbDYb/H5/8nMC\ngQAcDkevz19QYE9twf2UafUAmVcT6zk11nNqmVZPKqS9O2Lq1Kn44IMPAACVlZUoLS2F1WqFqqqo\nrq6GruvYsGEDpk6dmu7SiIjSTtB1XU/nC4bDYSxZsgQHDhwAEL8hd9ZZZ2HHjh145JFHoGkaZs2a\nhR/96EfpLIuIyBBpD2EiIjqKmzWIiAzEECYiMhBDmIjIQAxhIiIDpX3H3Ol699138dZbb2HFihUA\ngB07dmDZsmXHnTGxcuVKfPDBB5BlGffeey8mTZqEtrY2LFq0CKFQCIWFhVi+fDlMJlNK69N1HUuW\nLMGePXugqiqWLVuGioqKlL7GsXbs2IFf/epXeOGFF1BVVYV77rkHoihi7NixeOihhwAAL7/8Mtas\nWQNFUbBgwQJcfPHFCIVCuPvuu9HS0gKbzYZHH30Uubm5/aolGo3ivvvuQ21tLSKRCBYsWIAxY8YY\nVpOmaXjggQdw6NAhiKKIpUuXQlVVQ98jAGhpacE111yD5557DpIkGVrPt771reTmqPLycixYsMDQ\nep555hm89957iEQiuO666zB9+nRD63n11Vfxl7/8BYIgIBQKobKyEv/93/+NRx55ZGBq0jPYww8/\nrF955ZX6nXfemXzsqquu0qurq3Vd1/VbbrlF/+KLL/Rdu3bpN954o67rul5XV6dfc801uq7r+s9/\n/nP91Vdf1XVd11etWqU/99xzKa/xnXfe0e+55x5d13V9+/bt+m233Zby1+jud7/7nT537lz92muv\n1XVd1xcsWKBv3bpV13Vdf/DBB/V3331Xb2pq0ufOnatHIhHd5/Ppc+fO1cPhsP7cc8/pTzzxhK7r\nuv7GG2/oDz/8cL/reeWVV/RHHnlE13Vdb29v1y+++GJDa3r33Xf1++67T9d1Xd+yZYt+2223Gf4e\nRSIR/fbbb9cvv/xy/eDBg4bWEwqF9G9+85s9HjOyni1btugLFizQdV3XA4GA/sQTTxj+69Xd0qVL\n9ZdffnlAa8ro5YgpU6ZgyZIlyY9PdMbExo0bsW3bNsyaNQsAUFJSAk3T0Nraik8++QQXXnghAGDO\nnDn48MMPU17jtm3bkq8xefJkfP755yl/je6GDx+OJ598Mvnxrl27MG3aNADx73HTpk3YuXMnpk6d\nClmWYbPZMGLECFRWVmLbtm2YM2dO8nM3b97c73quvPJK3HHHHQCAWCwGSZKwe/duw2q69NJL8fOf\n/xwAUFdXB6fTaWg9APDYY4/h3/7t31BYWAhd1w2tp7KyEh0dHbj55pvx/e9/Hzt27DC0ng0bNmDc\nuHH4j//4D9x22224+OKLDf/16vLZZ59h//79+Pa3vz2gf84yYjniRGdMLF++HFdeeSU++uij5GOB\nQOC4Myaqq6thNpvhcrl6PO73+xEIBGC325OP+Xy+lNfu9/uTrwEAsixD0zSI4sD8/XbZZZehtrY2\n+bHerc37RN83AOTk5CQf73r/uj63vywWC4D4+3DHHXfgxz/+MR577DFDaxJFEffccw/WrVuH//qv\n/8LGjRsNq+cvf/kL8vLyMGvWLDz99NMA4ksmRtVjNptx880349vf/jYOHz6MW265xdDfQ21tbair\nq8OqVatQXV2N2267zdD3p7tnnnkGP/zhD497PNU1ZUQIn+iMiRM59hsKBAJwOp1QFAWBQCD5uN/v\nh8PhSH6+2+0+7g1LFZvN1uO1BzKAT6T7a3WduXGyszi615rK9+PIkSNYuHAhrr/+enz961/HL3/5\nS8NrevTRR9HS0oJ58+YhFAoZVk/X2uLGjRuxZ88eLF68GG1tbYbVM2LECAwfPjz5Y5fLhd27dxtW\nj8vlwujRoyHLMkaOHAmTyYSGhgbD6uni8/lw+PBhTJ8+HcDA/jnL6OWIY9lsthOeMXHeeedhw4YN\n0HUddXV10HUdLpcLU6ZMwfr16wEA69evT/5zIpWmTJmSPAtj+/btGDduXMpf41TOPvtsbN26FUD8\ne5w6dSrOPfdcbNu2DeFwGD6fDwcPHsTYsWNx3nnnJWv94IMPUvJ+NDc34+abb8bdd9+Nb37zmwCA\ns846y7CaXn/9dTzzzDMAAJPJBFEUMXHixOS/qNJdz5/+9Ce88MILeOGFFzBhwgT84he/wIUXXmjY\n+/PKK6/g0UcfBQA0NDTA7/dj1qxZhr0/U6dOxT/+8Y9kPcFgEDNmzDCsni5bt27FjBkzkh8P5O/p\njN+2/NFHH2HNmjXJ7oidO3di2bJlx50xsXLlSqxfvx66ruPee+/FlClT0NLSgsWLF6OjowO5ublY\nsWIFzGZzSuvTu3VHAPFllJEjR6b0NY5VW1uLu+66Cy+99BIOHz6Mn/70p4hEIhg9ejQefvhhCIKA\nP//5z1izZg10Xcdtt92GSy+9FJ2dnVi8eDGampqgqipWrFiBvLy8ftWybNkyvPnmmxg1ahR0XYcg\nCLj//vvx8MMPG1JTMBjEvffei+bmZkSjUdx6660YNWoUHnjgAcPeoy433HADli5dCkEQDPs1i0Qi\nuPfee1FXVwdRFHH33XfD5XIZ+v786le/wocffghd13HXXXehrKzM8F+vP/zhD1AUBTfccAMADOif\ns4wPYSKibDaoliOIiLINQ5iIyEAMYSIiAzGEiYgMxBAmIjIQQ5iIyEAMYRqUPvroI3zve99L+9cC\n8R2Zt99++xl/PVF3DGEatARBMORrPR4PKisrz/jribpjCNOg1dbWhh/84Af4xje+kdzN9P777+Pq\nq6/GVVddhYULF6K1tRVA/LSuuXPn4pprrsHLL78MAKiqqsIll1ySfL6tW7filltuwb/+67/i4MGD\nAIC77roLS5cuBRA/x3n+/PlYtmwZGhoaTni4C9HpYgjToFVTU4OHHnoI//M//4NAIIBVq1bhoYce\nwlNPPYXXX38d5513Hn72s58hHA7jnnvuwRNPPIFXXnkluXV92LBhKC8vx5YtWwDED/P+1re+hYsv\nvjh5/ODevXuxbds2APEzAy655BI88MADKCoqwhNPPGHMN05ZhSFMg9b06dOTU0zmzp2L559/HpMn\nT0ZJSQkA4Nprr8XmzZuxd+9eFBUVJc/0uPrqq5PPcc011+D1119HZ2cnPvzwQ1x66aXJM2APHDiA\nsWPHQpIktLa2JkOYKJUYwjRoSZKU/HHX4UHd6bqOWCwGURR7nFEry0dPcL3iiiuwceNGvPXWW7jo\noougKAqmTJmCL774Aps3b8YFF1yA6dOn46233kI0GkVxcfHAf2M0pDCEadDatm0b6uvroWkaXnvt\nNdxyyy3Yvn076urqAAAvvfQSZsyYgXHjxqG1tTV50t3f/va35HOYzWbMmTMHv/71r5NHcYqiiMmT\nJ+OFF17A+eefjwsuuABPP/10clqCLMuIxWJp/m4pW2XEoe5EZ2Ls2LG477770NTUhBkzZuDmm2/G\nmDFjcPvttyMajaK0tDQ5FHbFihW4++67IcsyzjnnnB7P8y//8i/49NNPMWnSpORjF110EbZu3YqR\nI0ciPz8fra2tyaWIvLw8lJSU4MYbbzxuIgzR6eJRljSkxWIx/Od//ify8/Px/e9/3+hyaAjilTAN\nafPmzYPb7cZTTz1ldCk0RPFKmIjIQLwxR0RkIIYwEZGBGMJERAZiCBMRGYghTERkoP8HsF9+ha54\n9AIAAAAASUVORK5CYII=\n",
      "text/plain": [
       "<matplotlib.figure.Figure at 0x11ba22890>"
      ]
     },
     "metadata": {},
     "output_type": "display_data"
    },
    {
     "data": {
      "image/png": "iVBORw0KGgoAAAANSUhEUgAAAWEAAAFhCAYAAACh/xvXAAAABHNCSVQICAgIfAhkiAAAAAlwSFlz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\nmIhIoP8Ph/Fnc8T9a5gAAAAASUVORK5CYII=\n",
      "text/plain": [
       "<matplotlib.figure.Figure at 0x11c507610>"
      ]
     },
     "metadata": {},
     "output_type": "display_data"
    },
    {
     "data": {
      "image/png": "iVBORw0KGgoAAAANSUhEUgAAAWEAAAFhCAYAAACh/xvXAAAABHNCSVQICAgIfAhkiAAAAAlwSFlz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\nkYn+P50i1YJ1ySChAAAAAElFTkSuQmCC\n",
      "text/plain": [
       "<matplotlib.figure.Figure at 0x11c402290>"
      ]
     },
     "metadata": {},
     "output_type": "display_data"
    },
    {
     "data": {
      "image/png": "iVBORw0KGgoAAAANSUhEUgAAAWEAAAFhCAYAAACh/xvXAAAABHNCSVQICAgIfAhkiAAAAAlwSFlz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\nAAAASUVORK5CYII=\n",
      "text/plain": [
       "<matplotlib.figure.Figure at 0x11c853fd0>"
      ]
     },
     "metadata": {},
     "output_type": "display_data"
    }
   ],
   "source": [
    "sns.lmplot('bodywt','sleep_rem', mammals)\n",
    "sns.lmplot('bodywt', 'sleep_rem', log_mammals)\n",
    "sns.lmplot('bodywt', 'awake', mammals)\n",
    "sns.lmplot('bodywt', 'awake', log_mammals)"
   ]
  },
  {
   "cell_type": "markdown",
   "metadata": {},
   "source": [
    "## Introduction: Single Regression Analysis in statsmodels & scikit (10 mins)"
   ]
  },
  {
   "cell_type": "code",
   "execution_count": 42,
   "metadata": {
    "collapsed": false
   },
   "outputs": [
    {
     "data": {
      "text/html": [
       "<table class=\"simpletable\">\n",
       "<caption>OLS Regression Results</caption>\n",
       "<tr>\n",
       "  <th>Dep. Variable:</th>            <td>y</td>        <th>  R-squared:         </th> <td>   0.872</td>\n",
       "</tr>\n",
       "<tr>\n",
       "  <th>Model:</th>                   <td>OLS</td>       <th>  Adj. R-squared:    </th> <td>   0.870</td>\n",
       "</tr>\n",
       "<tr>\n",
       "  <th>Method:</th>             <td>Least Squares</td>  <th>  F-statistic:       </th> <td>   367.7</td>\n",
       "</tr>\n",
       "<tr>\n",
       "  <th>Date:</th>             <td>Mon, 21 Nov 2016</td> <th>  Prob (F-statistic):</th> <td>9.16e-26</td>\n",
       "</tr>\n",
       "<tr>\n",
       "  <th>Time:</th>                 <td>21:14:10</td>     <th>  Log-Likelihood:    </th> <td> -20.070</td>\n",
       "</tr>\n",
       "<tr>\n",
       "  <th>No. Observations:</th>      <td>    56</td>      <th>  AIC:               </th> <td>   44.14</td>\n",
       "</tr>\n",
       "<tr>\n",
       "  <th>Df Residuals:</th>          <td>    54</td>      <th>  BIC:               </th> <td>   48.19</td>\n",
       "</tr>\n",
       "<tr>\n",
       "  <th>Df Model:</th>              <td>     1</td>      <th>                     </th>     <td> </td>   \n",
       "</tr>\n",
       "<tr>\n",
       "  <th>Covariance Type:</th>      <td>nonrobust</td>    <th>                     </th>     <td> </td>   \n",
       "</tr>\n",
       "</table>\n",
       "<table class=\"simpletable\">\n",
       "<tr>\n",
       "      <td></td>         <th>coef</th>     <th>std err</th>      <th>t</th>      <th>P>|t|</th> <th>[95.0% Conf. Int.]</th> \n",
       "</tr>\n",
       "<tr>\n",
       "  <th>Intercept</th> <td>    0.0859</td> <td>    0.048</td> <td>    1.782</td> <td> 0.080</td> <td>   -0.011     0.183</td>\n",
       "</tr>\n",
       "<tr>\n",
       "  <th>X</th>         <td>    0.0010</td> <td> 5.03e-05</td> <td>   19.176</td> <td> 0.000</td> <td>    0.001     0.001</td>\n",
       "</tr>\n",
       "</table>\n",
       "<table class=\"simpletable\">\n",
       "<tr>\n",
       "  <th>Omnibus:</th>       <td>85.068</td> <th>  Durbin-Watson:     </th> <td>   2.376</td> \n",
       "</tr>\n",
       "<tr>\n",
       "  <th>Prob(Omnibus):</th> <td> 0.000</td> <th>  Jarque-Bera (JB):  </th> <td>1330.630</td> \n",
       "</tr>\n",
       "<tr>\n",
       "  <th>Skew:</th>          <td> 4.258</td> <th>  Prob(JB):          </th> <td>1.14e-289</td>\n",
       "</tr>\n",
       "<tr>\n",
       "  <th>Kurtosis:</th>      <td>25.311</td> <th>  Cond. No.          </th> <td>    981.</td> \n",
       "</tr>\n",
       "</table>"
      ],
      "text/plain": [
       "<class 'statsmodels.iolib.summary.Summary'>\n",
       "\"\"\"\n",
       "                            OLS Regression Results                            \n",
       "==============================================================================\n",
       "Dep. Variable:                      y   R-squared:                       0.872\n",
       "Model:                            OLS   Adj. R-squared:                  0.870\n",
       "Method:                 Least Squares   F-statistic:                     367.7\n",
       "Date:                Mon, 21 Nov 2016   Prob (F-statistic):           9.16e-26\n",
       "Time:                        21:14:10   Log-Likelihood:                -20.070\n",
       "No. Observations:                  56   AIC:                             44.14\n",
       "Df Residuals:                      54   BIC:                             48.19\n",
       "Df Model:                           1                                         \n",
       "Covariance Type:            nonrobust                                         \n",
       "==============================================================================\n",
       "                 coef    std err          t      P>|t|      [95.0% Conf. Int.]\n",
       "------------------------------------------------------------------------------\n",
       "Intercept      0.0859      0.048      1.782      0.080        -0.011     0.183\n",
       "X              0.0010   5.03e-05     19.176      0.000         0.001     0.001\n",
       "==============================================================================\n",
       "Omnibus:                       85.068   Durbin-Watson:                   2.376\n",
       "Prob(Omnibus):                  0.000   Jarque-Bera (JB):             1330.630\n",
       "Skew:                           4.258   Prob(JB):                    1.14e-289\n",
       "Kurtosis:                      25.311   Cond. No.                         981.\n",
       "==============================================================================\n",
       "\n",
       "Warnings:\n",
       "[1] Standard Errors assume that the covariance matrix of the errors is correctly specified.\n",
       "\"\"\""
      ]
     },
     "execution_count": 42,
     "metadata": {},
     "output_type": "execute_result"
    }
   ],
   "source": [
    "# this is the standard import if you're using \"formula notation\" (similar to R)\n",
    "import statsmodels.formula.api as smf\n",
    "\n",
    "X = mammals[['bodywt']]\n",
    "y = mammals['brainwt']\n",
    "\n",
    "# create a fitted model in one line\n",
    "#formula notiation is the equivalent to writting out our models such that 'outcome = predictor'\n",
    "#with the follwing syntax formula = 'outcome ~ predictor1 + predictor2 ... predictorN'\n",
    "lm = smf.ols(formula='y ~ X', data=mammals).fit()\n",
    "#print the full summary\n",
    "lm.summary()\n",
    "\n"
   ]
  },
  {
   "cell_type": "markdown",
   "metadata": {},
   "source": [
    "#### Use Statsmodels to make the prediction"
   ]
  },
  {
   "cell_type": "code",
   "execution_count": 43,
   "metadata": {
    "collapsed": false
   },
   "outputs": [
    {
     "data": {
      "text/html": [
       "<div>\n",
       "<table border=\"1\" class=\"dataframe\">\n",
       "  <thead>\n",
       "    <tr style=\"text-align: right;\">\n",
       "      <th></th>\n",
       "      <th>X</th>\n",
       "    </tr>\n",
       "  </thead>\n",
       "  <tbody>\n",
       "    <tr>\n",
       "      <th>0</th>\n",
       "      <td>50</td>\n",
       "    </tr>\n",
       "  </tbody>\n",
       "</table>\n",
       "</div>"
      ],
      "text/plain": [
       "    X\n",
       "0  50"
      ]
     },
     "execution_count": 43,
     "metadata": {},
     "output_type": "execute_result"
    }
   ],
   "source": [
    "# you have to create a DataFrame since the Statsmodels formula interface expects it\n",
    "X_new = pd.DataFrame({'X': [50]})\n",
    "X_new.head()"
   ]
  },
  {
   "cell_type": "code",
   "execution_count": 44,
   "metadata": {
    "collapsed": false
   },
   "outputs": [
    {
     "data": {
      "text/plain": [
       "array([ 0.13411477])"
      ]
     },
     "execution_count": 44,
     "metadata": {},
     "output_type": "execute_result"
    }
   ],
   "source": [
    "lm.predict(X_new)"
   ]
  },
  {
   "cell_type": "markdown",
   "metadata": {},
   "source": [
    "### Repeat in Scikit with handy plotting"
   ]
  },
  {
   "cell_type": "markdown",
   "metadata": {},
   "source": [
    "When modeling with sklearn, you'll use the following base principals:\n",
    "\n",
    "- All sklearn estimators (modeling classes) are based on this base estimator. This allows you to easily rotate through estimators without changing much code.\n",
    "- All estimators take a matrix, X, either sparse or dense.\n",
    "- Many estimators also take a vector, y, when working on a supervised machine learning problem. Regressions are supervised learning because we already have examples of y given X.\n",
    "- All estimators have parameters that can be set. This allows for customization and higher level of detail to the learning process. The parameters are appropriate to each estimator algorithm."
   ]
  },
  {
   "cell_type": "code",
   "execution_count": 45,
   "metadata": {
    "collapsed": false
   },
   "outputs": [
    {
     "name": "stdout",
     "output_type": "stream",
     "text": [
      "P Values: [  9.15540205e-26]\n",
      "Coefficients: [ 0.00096395]\n",
      "y-intercept: 0.0859173102936\n",
      "R-Squared: 0.871949198087\n"
     ]
    },
    {
     "data": {
      "image/png": "iVBORw0KGgoAAAANSUhEUgAAAXYAAAECCAYAAADq7fyyAAAABHNCSVQICAgIfAhkiAAAAAlwSFlz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\na8PhDNjRAAAAAElFTkSuQmCC\n",
      "text/plain": [
       "<matplotlib.figure.Figure at 0x11b7e4290>"
      ]
     },
     "metadata": {},
     "output_type": "display_data"
    }
   ],
   "source": [
    "from sklearn import feature_selection, linear_model\n",
    "\n",
    "def get_linear_model_metrics(X, y, algo):\n",
    "    # get the pvalue of X given y. Ignore f-stat for now.\n",
    "    pvals = feature_selection.f_regression(X, y)[1]\n",
    "    # start with an empty linear regression object\n",
    "    # .fit() runs the linear regression function on X and y\n",
    "    algo.fit(X,y)\n",
    "    residuals = (y-algo.predict(X)).values\n",
    "\n",
    "    # print the necessary values\n",
    "    print 'P Values:', pvals\n",
    "    print 'Coefficients:', algo.coef_\n",
    "    print 'y-intercept:', algo.intercept_\n",
    "    print 'R-Squared:', algo.score(X,y)\n",
    "    plt.figure()\n",
    "    plt.hist(residuals, bins=np.ceil(np.sqrt(len(y))))\n",
    "    # keep the model\n",
    "    return algo\n",
    "\n",
    "X = mammals[['bodywt']]\n",
    "y = mammals['brainwt']\n",
    "lm = linear_model.LinearRegression()\n",
    "lm = get_linear_model_metrics(X, y, lm)"
   ]
  },
  {
   "cell_type": "markdown",
   "metadata": {},
   "source": [
    "## Demo: Significance is Key (20 mins)"
   ]
  },
  {
   "cell_type": "markdown",
   "metadata": {},
   "source": [
    "### What does our output tell us?"
   ]
  },
  {
   "cell_type": "markdown",
   "metadata": {},
   "source": [
    "Our output tells us that:\n",
    "\n",
    "* The relationship between bodywt and brainwt isn't random (p value approaching 0)  \n",
    "* The model explains, roughly, 87% of the variance of the dataset (the largest errors being in the large brain and body sizes)  \n",
    "* With this current model, brainwt is roughly bodywt * 0.00096395  \n",
    "* The residuals, or error in the prediction, is not normal, with outliers on the right. A better with will have similar to normally distributed error."
   ]
  },
  {
   "cell_type": "markdown",
   "metadata": {},
   "source": [
    "### Evaluating Fit, Evaluating Sense"
   ]
  },
  {
   "cell_type": "markdown",
   "metadata": {},
   "source": [
    "Although we know there is a better solution to the model, we should evaluate some other sense things first. For example, given this model, what is an animal's brainwt if their bodywt is 0?"
   ]
  },
  {
   "cell_type": "code",
   "execution_count": 46,
   "metadata": {
    "collapsed": false
   },
   "outputs": [
    {
     "name": "stdout",
     "output_type": "stream",
     "text": [
      "[ 0.08591731]\n"
     ]
    }
   ],
   "source": [
    "# prediction at 0?\n",
    "print lm.predict([[0]])"
   ]
  },
  {
   "cell_type": "code",
   "execution_count": 47,
   "metadata": {
    "collapsed": false
   },
   "outputs": [
    {
     "name": "stdout",
     "output_type": "stream",
     "text": [
      "P Values: [  9.15540205e-26]\n",
      "Coefficients: [ 0.00098291]\n",
      "y-intercept: 0.0\n",
      "R-Squared: 0.864418807451\n",
      "[ 0.]\n"
     ]
    },
    {
     "data": {
      "image/png": "iVBORw0KGgoAAAANSUhEUgAAAXYAAAECCAYAAADq7fyyAAAABHNCSVQICAgIfAhkiAAAAAlwSFlz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\nRK5CYII=\n",
      "text/plain": [
       "<matplotlib.figure.Figure at 0x11a971bd0>"
      ]
     },
     "metadata": {},
     "output_type": "display_data"
    }
   ],
   "source": [
    "lm = linear_model.LinearRegression(fit_intercept=False)\n",
    "lm = get_linear_model_metrics(X, y, lm)\n",
    "# prediction at 0?\n",
    "print lm.predict([[0]])"
   ]
  },
  {
   "cell_type": "markdown",
   "metadata": {},
   "source": [
    "## Intrepretation?\n"
   ]
  },
  {
   "cell_type": "markdown",
   "metadata": {},
   "source": [
    "Answer:"
   ]
  },
  {
   "cell_type": "markdown",
   "metadata": {},
   "source": [
    "## Guided Practice: Using the LinearRegression object (15 mins)\n",
    "\n",
    "We learned earlier that the data in its current state does not allow for the best linear regression fit. \n",
    "\n",
    "With a partner, generate two more models using the log-transformed data to see how this transform changes the model's performance. \n",
    "\n",
    "Complete the following code to update X and y to match the log-transformed data. \n",
    "\n",
    "Complete the loop by setting the list to be one True and one False."
   ]
  },
  {
   "cell_type": "code",
   "execution_count": 48,
   "metadata": {
    "collapsed": false
   },
   "outputs": [
    {
     "name": "stdout",
     "output_type": "stream",
     "text": [
      "y-intercept: True\n",
      "P Values: [  3.56282243e-33]\n",
      "Coefficients: [ 0.76516177]\n",
      "y-intercept: -2.07393164084\n",
      "R-Squared: 0.931851615367\n",
      "\n",
      "y-intercept: False\n",
      "P Values: [  3.56282243e-33]\n",
      "Coefficients: [ 0.35561441]\n",
      "y-intercept: 0.0\n",
      "R-Squared: -2.41053211437\n",
      "\n"
     ]
    },
    {
     "data": {
      "image/png": "iVBORw0KGgoAAAANSUhEUgAAAXYAAAECCAYAAADq7fyyAAAABHNCSVQICAgIfAhkiAAAAAlwSFlz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\nTkSuQmCC\n",
      "text/plain": [
       "<matplotlib.figure.Figure at 0x11c6d42d0>"
      ]
     },
     "metadata": {},
     "output_type": "display_data"
    },
    {
     "data": {
      "image/png": "iVBORw0KGgoAAAANSUhEUgAAAXkAAAECCAYAAAAb5qc/AAAABHNCSVQICAgIfAhkiAAAAAlwSFlz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\nAElFTkSuQmCC\n",
      "text/plain": [
       "<matplotlib.figure.Figure at 0x11b43a950>"
      ]
     },
     "metadata": {},
     "output_type": "display_data"
    }
   ],
   "source": [
    "#starter\n",
    "X = log_mammals[['bodywt']]\n",
    "y = log_mammals['brainwt']\n",
    "loop = [True, False]\n",
    "for boolean in loop:\n",
    "    print 'y-intercept:', boolean\n",
    "    lm = linear_model.LinearRegression(fit_intercept=boolean)\n",
    "    get_linear_model_metrics(X, y, lm)\n",
    "    print "
   ]
  },
  {
   "cell_type": "markdown",
   "metadata": {},
   "source": [
    "### Which model performed the best? The worst? Why?\n"
   ]
  },
  {
   "cell_type": "markdown",
   "metadata": {},
   "source": [
    "Answer: "
   ]
  },
  {
   "cell_type": "markdown",
   "metadata": {},
   "source": [
    "### Advanced Methods! \n",
    "\n",
    "We will go over different estimators in detail in the future but check it out in the docs if you're curious (and finish a little early)"
   ]
  },
  {
   "cell_type": "code",
   "execution_count": 49,
   "metadata": {
    "collapsed": false
   },
   "outputs": [
    {
     "name": "stdout",
     "output_type": "stream",
     "text": [
      "Lasso(alpha=1.0, copy_X=True, fit_intercept=True, max_iter=1000,\n",
      "   normalize=False, positive=False, precompute=False, random_state=None,\n",
      "   selection='cyclic', tol=0.0001, warm_start=False)\n",
      "P Values: [  3.56282243e-33]\n",
      "Coefficients: [ 0.23454772]\n",
      "y-intercept: -1.85931606304\n",
      "R-Squared: 0.483728109403\n",
      "\n",
      "Ridge(alpha=1.0, copy_X=True, fit_intercept=True, max_iter=None,\n",
      "   normalize=False, random_state=None, solver='auto', tol=0.001)\n",
      "P Values: [  3.56282243e-33]\n",
      "Coefficients: [ 0.75797972]\n",
      "y-intercept: -2.07102674342\n",
      "R-Squared: 0.931769516561\n",
      "\n",
      "ElasticNet(alpha=1.0, copy_X=True, fit_intercept=True, l1_ratio=0.5,\n",
      "      max_iter=1000, normalize=False, positive=False, precompute=False,\n",
      "      random_state=None, selection='cyclic', tol=0.0001, warm_start=False)\n",
      "P Values: [  3.56282243e-33]\n",
      "Coefficients: [ 0.39504621]\n",
      "y-intercept: -1.9242323166\n",
      "R-Squared: 0.71382228495\n",
      "\n"
     ]
    },
    {
     "data": {
      "image/png": "iVBORw0KGgoAAAANSUhEUgAAAXYAAAECCAYAAADq7fyyAAAABHNCSVQICAgIfAhkiAAAAAlwSFlz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\nACxD2AHAMoQdACzzf6Ib65wD2rZoAAAAAElFTkSuQmCC\n",
      "text/plain": [
       "<matplotlib.figure.Figure at 0x11984af10>"
      ]
     },
     "metadata": {},
     "output_type": "display_data"
    },
    {
     "data": {
      "image/png": "iVBORw0KGgoAAAANSUhEUgAAAXYAAAECCAYAAADq7fyyAAAABHNCSVQICAgIfAhkiAAAAAlwSFlz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\nYgcAw1DsAGAYih0ADPP/1jeoxMtmv9YAAAAASUVORK5CYII=\n",
      "text/plain": [
       "<matplotlib.figure.Figure at 0x11bd1a450>"
      ]
     },
     "metadata": {},
     "output_type": "display_data"
    },
    {
     "data": {
      "image/png": "iVBORw0KGgoAAAANSUhEUgAAAXYAAAECCAYAAADq7fyyAAAABHNCSVQICAgIfAhkiAAAAAlwSFlz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\nQ9gBwBjCDgDGEHYAMIawA4Ax/wcfLAatgAV86gAAAABJRU5ErkJggg==\n",
      "text/plain": [
       "<matplotlib.figure.Figure at 0x11bd268d0>"
      ]
     },
     "metadata": {},
     "output_type": "display_data"
    }
   ],
   "source": [
    "# loading other sklearn regression estimators\n",
    "X = log_mammals[['bodywt']]\n",
    "y = log_mammals['brainwt']\n",
    "\n",
    "estimators = [\n",
    "    linear_model.Lasso(),\n",
    "    linear_model.Ridge(),\n",
    "    linear_model.ElasticNet(),\n",
    "]\n",
    "\n",
    "for est in estimators:\n",
    "    print est\n",
    "    get_linear_model_metrics(X, y, est)\n",
    "    print\n"
   ]
  },
  {
   "cell_type": "markdown",
   "metadata": {},
   "source": [
    "## Introduction: Multiple Regression Analysis using citi bike data (10 minutes)\n"
   ]
  },
  {
   "cell_type": "markdown",
   "metadata": {},
   "source": [
    "In the previous example, one variable explained the variance of another; however, more often than not, we will need multiple variables. \n",
    "\n",
    "For example, a house's price may be best measured by square feet, but a lot of other variables play a vital role: bedrooms, bathrooms, location, appliances, etc. \n",
    "\n",
    "For a linear regression, we want these variables to be largely independent of each other, but all of them should help explain the Y variable.\n",
    "\n",
    "We'll work with bikeshare data to showcase what this means and to explain a concept called multicollinearity."
   ]
  },
  {
   "cell_type": "code",
   "execution_count": 50,
   "metadata": {
    "collapsed": false
   },
   "outputs": [
    {
     "data": {
      "text/html": [
       "<div>\n",
       "<table border=\"1\" class=\"dataframe\">\n",
       "  <thead>\n",
       "    <tr style=\"text-align: right;\">\n",
       "      <th></th>\n",
       "      <th>instant</th>\n",
       "      <th>dteday</th>\n",
       "      <th>season</th>\n",
       "      <th>yr</th>\n",
       "      <th>mnth</th>\n",
       "      <th>hr</th>\n",
       "      <th>holiday</th>\n",
       "      <th>weekday</th>\n",
       "      <th>workingday</th>\n",
       "      <th>weathersit</th>\n",
       "      <th>temp</th>\n",
       "      <th>atemp</th>\n",
       "      <th>hum</th>\n",
       "      <th>windspeed</th>\n",
       "      <th>casual</th>\n",
       "      <th>registered</th>\n",
       "      <th>cnt</th>\n",
       "    </tr>\n",
       "  </thead>\n",
       "  <tbody>\n",
       "    <tr>\n",
       "      <th>0</th>\n",
       "      <td>1</td>\n",
       "      <td>2011-01-01</td>\n",
       "      <td>1</td>\n",
       "      <td>0</td>\n",
       "      <td>1</td>\n",
       "      <td>0</td>\n",
       "      <td>0</td>\n",
       "      <td>6</td>\n",
       "      <td>0</td>\n",
       "      <td>1</td>\n",
       "      <td>0.24</td>\n",
       "      <td>0.2879</td>\n",
       "      <td>0.81</td>\n",
       "      <td>0.0</td>\n",
       "      <td>3</td>\n",
       "      <td>13</td>\n",
       "      <td>16</td>\n",
       "    </tr>\n",
       "    <tr>\n",
       "      <th>1</th>\n",
       "      <td>2</td>\n",
       "      <td>2011-01-01</td>\n",
       "      <td>1</td>\n",
       "      <td>0</td>\n",
       "      <td>1</td>\n",
       "      <td>1</td>\n",
       "      <td>0</td>\n",
       "      <td>6</td>\n",
       "      <td>0</td>\n",
       "      <td>1</td>\n",
       "      <td>0.22</td>\n",
       "      <td>0.2727</td>\n",
       "      <td>0.80</td>\n",
       "      <td>0.0</td>\n",
       "      <td>8</td>\n",
       "      <td>32</td>\n",
       "      <td>40</td>\n",
       "    </tr>\n",
       "    <tr>\n",
       "      <th>2</th>\n",
       "      <td>3</td>\n",
       "      <td>2011-01-01</td>\n",
       "      <td>1</td>\n",
       "      <td>0</td>\n",
       "      <td>1</td>\n",
       "      <td>2</td>\n",
       "      <td>0</td>\n",
       "      <td>6</td>\n",
       "      <td>0</td>\n",
       "      <td>1</td>\n",
       "      <td>0.22</td>\n",
       "      <td>0.2727</td>\n",
       "      <td>0.80</td>\n",
       "      <td>0.0</td>\n",
       "      <td>5</td>\n",
       "      <td>27</td>\n",
       "      <td>32</td>\n",
       "    </tr>\n",
       "    <tr>\n",
       "      <th>3</th>\n",
       "      <td>4</td>\n",
       "      <td>2011-01-01</td>\n",
       "      <td>1</td>\n",
       "      <td>0</td>\n",
       "      <td>1</td>\n",
       "      <td>3</td>\n",
       "      <td>0</td>\n",
       "      <td>6</td>\n",
       "      <td>0</td>\n",
       "      <td>1</td>\n",
       "      <td>0.24</td>\n",
       "      <td>0.2879</td>\n",
       "      <td>0.75</td>\n",
       "      <td>0.0</td>\n",
       "      <td>3</td>\n",
       "      <td>10</td>\n",
       "      <td>13</td>\n",
       "    </tr>\n",
       "    <tr>\n",
       "      <th>4</th>\n",
       "      <td>5</td>\n",
       "      <td>2011-01-01</td>\n",
       "      <td>1</td>\n",
       "      <td>0</td>\n",
       "      <td>1</td>\n",
       "      <td>4</td>\n",
       "      <td>0</td>\n",
       "      <td>6</td>\n",
       "      <td>0</td>\n",
       "      <td>1</td>\n",
       "      <td>0.24</td>\n",
       "      <td>0.2879</td>\n",
       "      <td>0.75</td>\n",
       "      <td>0.0</td>\n",
       "      <td>0</td>\n",
       "      <td>1</td>\n",
       "      <td>1</td>\n",
       "    </tr>\n",
       "  </tbody>\n",
       "</table>\n",
       "</div>"
      ],
      "text/plain": [
       "   instant      dteday  season  yr  mnth  hr  holiday  weekday  workingday  \\\n",
       "0        1  2011-01-01       1   0     1   0        0        6           0   \n",
       "1        2  2011-01-01       1   0     1   1        0        6           0   \n",
       "2        3  2011-01-01       1   0     1   2        0        6           0   \n",
       "3        4  2011-01-01       1   0     1   3        0        6           0   \n",
       "4        5  2011-01-01       1   0     1   4        0        6           0   \n",
       "\n",
       "   weathersit  temp   atemp   hum  windspeed  casual  registered  cnt  \n",
       "0           1  0.24  0.2879  0.81        0.0       3          13   16  \n",
       "1           1  0.22  0.2727  0.80        0.0       8          32   40  \n",
       "2           1  0.22  0.2727  0.80        0.0       5          27   32  \n",
       "3           1  0.24  0.2879  0.75        0.0       3          10   13  \n",
       "4           1  0.24  0.2879  0.75        0.0       0           1    1  "
      ]
     },
     "execution_count": 50,
     "metadata": {},
     "output_type": "execute_result"
    }
   ],
   "source": [
    "wd = '../../assets/dataset/bikeshare/'\n",
    "bike_data = pd.read_csv(wd+'bikeshare.csv')\n",
    "bike_data.head()"
   ]
  },
  {
   "cell_type": "markdown",
   "metadata": {},
   "source": [
    "### What is Multicollinearity?\n",
    "\n",
    "With the bike share data, let's compare three data points: actual temperature, \"feel\" temperature, and guest ridership. \n",
    "\n",
    "Our data is already normalized between 0 and 1, so we'll start off with the correlations and modeling."
   ]
  },
  {
   "cell_type": "code",
   "execution_count": 51,
   "metadata": {
    "collapsed": false
   },
   "outputs": [
    {
     "name": "stdout",
     "output_type": "stream",
     "text": [
      "            temp     atemp    casual\n",
      "temp    1.000000  0.987672  0.459616\n",
      "atemp   0.987672  1.000000  0.454080\n",
      "casual  0.459616  0.454080  1.000000\n",
      "Axes(0.125,0.125;0.62x0.775)\n"
     ]
    },
    {
     "data": {
      "image/png": "iVBORw0KGgoAAAANSUhEUgAAAVsAAAECCAYAAABQTnTSAAAABHNCSVQICAgIfAhkiAAAAAlwSFlz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\n",
      "text/plain": [
       "<matplotlib.figure.Figure at 0x11cb83650>"
      ]
     },
     "metadata": {},
     "output_type": "display_data"
    }
   ],
   "source": [
    "cmap = sns.diverging_palette(220, 10, as_cmap=True)\n",
    "\n",
    "correlations = bike_data[['temp', 'atemp', 'casual']].corr()\n",
    "print correlations\n",
    "print sns.heatmap(correlations, cmap=cmap)"
   ]
  },
  {
   "cell_type": "markdown",
   "metadata": {},
   "source": [
    "### What does the correlation matrix explain?"
   ]
  },
  {
   "cell_type": "markdown",
   "metadata": {},
   "source": [
    "Answer: "
   ]
  },
  {
   "cell_type": "markdown",
   "metadata": {},
   "source": [
    "## We can measure this effect in the coefficients:\n",
    "\n"
   ]
  },
  {
   "cell_type": "code",
   "execution_count": 52,
   "metadata": {
    "collapsed": false
   },
   "outputs": [
    {
     "name": "stdout",
     "output_type": "stream",
     "text": [
      "temp\n",
      "P Values: [ 0.]\n",
      "Coefficients: [ 117.68705779]\n",
      "y-intercept: -22.812739188\n",
      "R-Squared: 0.21124654163\n",
      "\n",
      "atemp\n",
      "P Values: [ 0.]\n",
      "Coefficients: [ 130.27875081]\n",
      "y-intercept: -26.3071675481\n",
      "R-Squared: 0.206188705733\n",
      "\n",
      "temp, atemp\n",
      "P Values: [ 0.  0.]\n",
      "Coefficients: [ 116.34021588    1.52795677]\n",
      "y-intercept: -22.8703398286\n",
      "R-Squared: 0.21124723661\n",
      "\n"
     ]
    },
    {
     "data": {
      "image/png": "iVBORw0KGgoAAAANSUhEUgAAAYMAAAECCAYAAAAciLtvAAAABHNCSVQICAgIfAhkiAAAAAlwSFlz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\nEQYAABEGAAARBgAASf8LvtBI+eQYmMoAAAAASUVORK5CYII=\n",
      "text/plain": [
       "<matplotlib.figure.Figure at 0x11cb3ded0>"
      ]
     },
     "metadata": {},
     "output_type": "display_data"
    },
    {
     "data": {
      "image/png": "iVBORw0KGgoAAAANSUhEUgAAAYMAAAECCAYAAAAciLtvAAAABHNCSVQICAgIfAhkiAAAAAlwSFlz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\ngg==\n",
      "text/plain": [
       "<matplotlib.figure.Figure at 0x11c00d490>"
      ]
     },
     "metadata": {},
     "output_type": "display_data"
    },
    {
     "data": {
      "image/png": "iVBORw0KGgoAAAANSUhEUgAAAYMAAAECCAYAAAAciLtvAAAABHNCSVQICAgIfAhkiAAAAAlwSFlz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\nuyxO4zZnMQAAAABJRU5ErkJggg==\n",
      "text/plain": [
       "<matplotlib.figure.Figure at 0x11baaff10>"
      ]
     },
     "metadata": {},
     "output_type": "display_data"
    }
   ],
   "source": [
    "y = bike_data['casual']\n",
    "x_sets = (\n",
    "    ['temp'],\n",
    "    ['atemp'],\n",
    "    ['temp', 'atemp'],\n",
    ")\n",
    "\n",
    "for x in x_sets:\n",
    "    print ', '.join(x)\n",
    "    get_linear_model_metrics(bike_data[x], y, linear_model.LinearRegression())\n",
    "    print"
   ]
  },
  {
   "cell_type": "markdown",
   "metadata": {},
   "source": [
    "###  Intrepretation?"
   ]
  },
  {
   "cell_type": "markdown",
   "metadata": {},
   "source": [
    "Answer: "
   ]
  },
  {
   "cell_type": "markdown",
   "metadata": {},
   "source": [
    "### What happens if we use a second variable that isn't highly correlated with temperature, like humidity?\n"
   ]
  },
  {
   "cell_type": "code",
   "execution_count": 53,
   "metadata": {
    "collapsed": false
   },
   "outputs": [
    {
     "name": "stdout",
     "output_type": "stream",
     "text": [
      "P Values: [ 0.  0.]\n",
      "Coefficients: [ 112.02457031  -80.87301833]\n",
      "y-intercept: 30.7273338581\n",
      "R-Squared: 0.310901196913\n"
     ]
    },
    {
     "data": {
      "text/plain": [
       "LinearRegression(copy_X=True, fit_intercept=True, n_jobs=1, normalize=False)"
      ]
     },
     "execution_count": 53,
     "metadata": {},
     "output_type": "execute_result"
    },
    {
     "data": {
      "image/png": "iVBORw0KGgoAAAANSUhEUgAAAYMAAAECCAYAAAAciLtvAAAABHNCSVQICAgIfAhkiAAAAAlwSFlz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\n",
      "text/plain": [
       "<matplotlib.figure.Figure at 0x11c19d390>"
      ]
     },
     "metadata": {},
     "output_type": "display_data"
    }
   ],
   "source": [
    "y = bike_data['casual']\n",
    "x = bike_data[['temp', 'hum']]\n",
    "get_linear_model_metrics(x, y, linear_model.LinearRegression())\n"
   ]
  },
  {
   "cell_type": "markdown",
   "metadata": {},
   "source": [
    "## Guided Practice: Multicollinearity with dummy variables (15 mins)\n",
    "\n"
   ]
  },
  {
   "cell_type": "markdown",
   "metadata": {},
   "source": [
    "There can be a similar effect from a feature set that is a singular matrix, which is when there is a clear relationship in the matrix (for example, the sum of all rows = 1).\n",
    "\n",
    "### Run through the following code on your own.\n",
    "#### What happens to the coefficients when you include all weather situations instead of just including all except one?"
   ]
  },
  {
   "cell_type": "code",
   "execution_count": 54,
   "metadata": {
    "collapsed": false
   },
   "outputs": [
    {
     "name": "stdout",
     "output_type": "stream",
     "text": [
      "P Values: [  3.75616929e-73   3.43170021e-22   1.57718666e-55   2.46181288e-01]\n",
      "Coefficients: [ -1.06470776e+15  -1.06470776e+15  -1.06470776e+15  -1.06470776e+15]\n",
      "y-intercept: 1.0647077609e+15\n",
      "R-Squared: 0.0233546193144\n",
      "\n",
      "P Values: [  3.75616929e-73   3.43170021e-22   1.57718666e-55]\n",
      "Coefficients: [ 37.87876398  26.92862383  13.38900634]\n",
      "y-intercept: 2.66666666667\n",
      "R-Squared: 0.0233906873841\n"
     ]
    },
    {
     "data": {
      "text/plain": [
       "LinearRegression(copy_X=True, fit_intercept=True, n_jobs=1, normalize=False)"
      ]
     },
     "execution_count": 54,
     "metadata": {},
     "output_type": "execute_result"
    },
    {
     "data": {
      "image/png": "iVBORw0KGgoAAAANSUhEUgAAAYMAAAECCAYAAAAciLtvAAAABHNCSVQICAgIfAhkiAAAAAlwSFlz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\nBaBgAAAAAElFTkSuQmCC\n",
      "text/plain": [
       "<matplotlib.figure.Figure at 0x11ca6e6d0>"
      ]
     },
     "metadata": {},
     "output_type": "display_data"
    },
    {
     "data": {
      "image/png": "iVBORw0KGgoAAAANSUhEUgAAAYMAAAECCAYAAAAciLtvAAAABHNCSVQICAgIfAhkiAAAAAlwSFlz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\nAElFTkSuQmCC\n",
      "text/plain": [
       "<matplotlib.figure.Figure at 0x11cd1f890>"
      ]
     },
     "metadata": {},
     "output_type": "display_data"
    }
   ],
   "source": [
    "lm = linear_model.LinearRegression()\n",
    "weather = pd.get_dummies(bike_data.weathersit)\n",
    "\n",
    "get_linear_model_metrics(weather[[1, 2, 3, 4]], y, lm)\n",
    "print\n",
    "# drop the least significant, weather situation  = 4\n",
    "get_linear_model_metrics(weather[[1, 2, 3]], y, lm)\n"
   ]
  },
  {
   "cell_type": "markdown",
   "metadata": {},
   "source": [
    "### Similar in Statsmodels"
   ]
  },
  {
   "cell_type": "code",
   "execution_count": 55,
   "metadata": {
    "collapsed": false
   },
   "outputs": [
    {
     "data": {
      "text/html": [
       "<table class=\"simpletable\">\n",
       "<caption>OLS Regression Results</caption>\n",
       "<tr>\n",
       "  <th>Dep. Variable:</th>            <td>y</td>        <th>  R-squared:         </th> <td>   0.023</td> \n",
       "</tr>\n",
       "<tr>\n",
       "  <th>Model:</th>                   <td>OLS</td>       <th>  Adj. R-squared:    </th> <td>   0.023</td> \n",
       "</tr>\n",
       "<tr>\n",
       "  <th>Method:</th>             <td>Least Squares</td>  <th>  F-statistic:       </th> <td>   138.7</td> \n",
       "</tr>\n",
       "<tr>\n",
       "  <th>Date:</th>             <td>Mon, 21 Nov 2016</td> <th>  Prob (F-statistic):</th> <td>8.08e-89</td> \n",
       "</tr>\n",
       "<tr>\n",
       "  <th>Time:</th>                 <td>21:14:15</td>     <th>  Log-Likelihood:    </th> <td> -92197.</td> \n",
       "</tr>\n",
       "<tr>\n",
       "  <th>No. Observations:</th>      <td> 17379</td>      <th>  AIC:               </th> <td>1.844e+05</td>\n",
       "</tr>\n",
       "<tr>\n",
       "  <th>Df Residuals:</th>          <td> 17375</td>      <th>  BIC:               </th> <td>1.844e+05</td>\n",
       "</tr>\n",
       "<tr>\n",
       "  <th>Df Model:</th>              <td>     3</td>      <th>                     </th>     <td> </td>    \n",
       "</tr>\n",
       "<tr>\n",
       "  <th>Covariance Type:</th>      <td>nonrobust</td>    <th>                     </th>     <td> </td>    \n",
       "</tr>\n",
       "</table>\n",
       "<table class=\"simpletable\">\n",
       "<tr>\n",
       "              <td></td>                <th>coef</th>     <th>std err</th>      <th>t</th>      <th>P>|t|</th> <th>[95.0% Conf. Int.]</th> \n",
       "</tr>\n",
       "<tr>\n",
       "  <th>Intercept</th>                <td>   17.7726</td> <td>    5.635</td> <td>    3.154</td> <td> 0.002</td> <td>    6.727    28.818</td>\n",
       "</tr>\n",
       "<tr>\n",
       "  <th>weather[[1, 2, 3, 4]][0]</th> <td>   22.7728</td> <td>    5.646</td> <td>    4.033</td> <td> 0.000</td> <td>   11.705    33.840</td>\n",
       "</tr>\n",
       "<tr>\n",
       "  <th>weather[[1, 2, 3, 4]][1]</th> <td>   11.8227</td> <td>    5.663</td> <td>    2.088</td> <td> 0.037</td> <td>    0.723    22.923</td>\n",
       "</tr>\n",
       "<tr>\n",
       "  <th>weather[[1, 2, 3, 4]][2]</th> <td>   -1.7169</td> <td>    5.724</td> <td>   -0.300</td> <td> 0.764</td> <td>  -12.936     9.502</td>\n",
       "</tr>\n",
       "<tr>\n",
       "  <th>weather[[1, 2, 3, 4]][3]</th> <td>  -15.1059</td> <td>   22.509</td> <td>   -0.671</td> <td> 0.502</td> <td>  -59.226    29.014</td>\n",
       "</tr>\n",
       "</table>\n",
       "<table class=\"simpletable\">\n",
       "<tr>\n",
       "  <th>Omnibus:</th>       <td>9001.632</td> <th>  Durbin-Watson:     </th> <td>   0.136</td> \n",
       "</tr>\n",
       "<tr>\n",
       "  <th>Prob(Omnibus):</th>  <td> 0.000</td>  <th>  Jarque-Bera (JB):  </th> <td>58962.554</td>\n",
       "</tr>\n",
       "<tr>\n",
       "  <th>Skew:</th>           <td> 2.468</td>  <th>  Prob(JB):          </th> <td>    0.00</td> \n",
       "</tr>\n",
       "<tr>\n",
       "  <th>Kurtosis:</th>       <td>10.553</td>  <th>  Cond. No.          </th> <td>2.10e+15</td> \n",
       "</tr>\n",
       "</table>"
      ],
      "text/plain": [
       "<class 'statsmodels.iolib.summary.Summary'>\n",
       "\"\"\"\n",
       "                            OLS Regression Results                            \n",
       "==============================================================================\n",
       "Dep. Variable:                      y   R-squared:                       0.023\n",
       "Model:                            OLS   Adj. R-squared:                  0.023\n",
       "Method:                 Least Squares   F-statistic:                     138.7\n",
       "Date:                Mon, 21 Nov 2016   Prob (F-statistic):           8.08e-89\n",
       "Time:                        21:14:15   Log-Likelihood:                -92197.\n",
       "No. Observations:               17379   AIC:                         1.844e+05\n",
       "Df Residuals:                   17375   BIC:                         1.844e+05\n",
       "Df Model:                           3                                         \n",
       "Covariance Type:            nonrobust                                         \n",
       "============================================================================================\n",
       "                               coef    std err          t      P>|t|      [95.0% Conf. Int.]\n",
       "--------------------------------------------------------------------------------------------\n",
       "Intercept                   17.7726      5.635      3.154      0.002         6.727    28.818\n",
       "weather[[1, 2, 3, 4]][0]    22.7728      5.646      4.033      0.000        11.705    33.840\n",
       "weather[[1, 2, 3, 4]][1]    11.8227      5.663      2.088      0.037         0.723    22.923\n",
       "weather[[1, 2, 3, 4]][2]    -1.7169      5.724     -0.300      0.764       -12.936     9.502\n",
       "weather[[1, 2, 3, 4]][3]   -15.1059     22.509     -0.671      0.502       -59.226    29.014\n",
       "==============================================================================\n",
       "Omnibus:                     9001.632   Durbin-Watson:                   0.136\n",
       "Prob(Omnibus):                  0.000   Jarque-Bera (JB):            58962.554\n",
       "Skew:                           2.468   Prob(JB):                         0.00\n",
       "Kurtosis:                      10.553   Cond. No.                     2.10e+15\n",
       "==============================================================================\n",
       "\n",
       "Warnings:\n",
       "[1] Standard Errors assume that the covariance matrix of the errors is correctly specified.\n",
       "[2] The smallest eigenvalue is 6.06e-27. This might indicate that there are\n",
       "strong multicollinearity problems or that the design matrix is singular.\n",
       "\"\"\""
      ]
     },
     "execution_count": 55,
     "metadata": {},
     "output_type": "execute_result"
    }
   ],
   "source": [
    "# all dummies in the model\n",
    "lm_stats = smf.ols(formula='y ~ weather[[1, 2, 3, 4]]', data=bike_data).fit()\n",
    "lm_stats.summary()"
   ]
  },
  {
   "cell_type": "code",
   "execution_count": 56,
   "metadata": {
    "collapsed": false
   },
   "outputs": [
    {
     "data": {
      "text/html": [
       "<table class=\"simpletable\">\n",
       "<caption>OLS Regression Results</caption>\n",
       "<tr>\n",
       "  <th>Dep. Variable:</th>            <td>y</td>        <th>  R-squared:         </th> <td>   0.023</td> \n",
       "</tr>\n",
       "<tr>\n",
       "  <th>Model:</th>                   <td>OLS</td>       <th>  Adj. R-squared:    </th> <td>   0.023</td> \n",
       "</tr>\n",
       "<tr>\n",
       "  <th>Method:</th>             <td>Least Squares</td>  <th>  F-statistic:       </th> <td>   138.7</td> \n",
       "</tr>\n",
       "<tr>\n",
       "  <th>Date:</th>             <td>Mon, 21 Nov 2016</td> <th>  Prob (F-statistic):</th> <td>8.08e-89</td> \n",
       "</tr>\n",
       "<tr>\n",
       "  <th>Time:</th>                 <td>21:14:15</td>     <th>  Log-Likelihood:    </th> <td> -92197.</td> \n",
       "</tr>\n",
       "<tr>\n",
       "  <th>No. Observations:</th>      <td> 17379</td>      <th>  AIC:               </th> <td>1.844e+05</td>\n",
       "</tr>\n",
       "<tr>\n",
       "  <th>Df Residuals:</th>          <td> 17375</td>      <th>  BIC:               </th> <td>1.844e+05</td>\n",
       "</tr>\n",
       "<tr>\n",
       "  <th>Df Model:</th>              <td>     3</td>      <th>                     </th>     <td> </td>    \n",
       "</tr>\n",
       "<tr>\n",
       "  <th>Covariance Type:</th>      <td>nonrobust</td>    <th>                     </th>     <td> </td>    \n",
       "</tr>\n",
       "</table>\n",
       "<table class=\"simpletable\">\n",
       "<tr>\n",
       "            <td></td>               <th>coef</th>     <th>std err</th>      <th>t</th>      <th>P>|t|</th> <th>[95.0% Conf. Int.]</th> \n",
       "</tr>\n",
       "<tr>\n",
       "  <th>Intercept</th>             <td>    2.6667</td> <td>   28.134</td> <td>    0.095</td> <td> 0.924</td> <td>  -52.478    57.812</td>\n",
       "</tr>\n",
       "<tr>\n",
       "  <th>weather[[1, 2, 3]][0]</th> <td>   37.8788</td> <td>   28.138</td> <td>    1.346</td> <td> 0.178</td> <td>  -17.274    93.031</td>\n",
       "</tr>\n",
       "<tr>\n",
       "  <th>weather[[1, 2, 3]][1]</th> <td>   26.9286</td> <td>   28.143</td> <td>    0.957</td> <td> 0.339</td> <td>  -28.235    82.092</td>\n",
       "</tr>\n",
       "<tr>\n",
       "  <th>weather[[1, 2, 3]][2]</th> <td>   13.3890</td> <td>   28.164</td> <td>    0.475</td> <td> 0.635</td> <td>  -41.814    68.592</td>\n",
       "</tr>\n",
       "</table>\n",
       "<table class=\"simpletable\">\n",
       "<tr>\n",
       "  <th>Omnibus:</th>       <td>9001.632</td> <th>  Durbin-Watson:     </th> <td>   0.136</td> \n",
       "</tr>\n",
       "<tr>\n",
       "  <th>Prob(Omnibus):</th>  <td> 0.000</td>  <th>  Jarque-Bera (JB):  </th> <td>58962.554</td>\n",
       "</tr>\n",
       "<tr>\n",
       "  <th>Skew:</th>           <td> 2.468</td>  <th>  Prob(JB):          </th> <td>    0.00</td> \n",
       "</tr>\n",
       "<tr>\n",
       "  <th>Kurtosis:</th>       <td>10.553</td>  <th>  Cond. No.          </th> <td>    189.</td> \n",
       "</tr>\n",
       "</table>"
      ],
      "text/plain": [
       "<class 'statsmodels.iolib.summary.Summary'>\n",
       "\"\"\"\n",
       "                            OLS Regression Results                            \n",
       "==============================================================================\n",
       "Dep. Variable:                      y   R-squared:                       0.023\n",
       "Model:                            OLS   Adj. R-squared:                  0.023\n",
       "Method:                 Least Squares   F-statistic:                     138.7\n",
       "Date:                Mon, 21 Nov 2016   Prob (F-statistic):           8.08e-89\n",
       "Time:                        21:14:15   Log-Likelihood:                -92197.\n",
       "No. Observations:               17379   AIC:                         1.844e+05\n",
       "Df Residuals:                   17375   BIC:                         1.844e+05\n",
       "Df Model:                           3                                         \n",
       "Covariance Type:            nonrobust                                         \n",
       "=========================================================================================\n",
       "                            coef    std err          t      P>|t|      [95.0% Conf. Int.]\n",
       "-----------------------------------------------------------------------------------------\n",
       "Intercept                 2.6667     28.134      0.095      0.924       -52.478    57.812\n",
       "weather[[1, 2, 3]][0]    37.8788     28.138      1.346      0.178       -17.274    93.031\n",
       "weather[[1, 2, 3]][1]    26.9286     28.143      0.957      0.339       -28.235    82.092\n",
       "weather[[1, 2, 3]][2]    13.3890     28.164      0.475      0.635       -41.814    68.592\n",
       "==============================================================================\n",
       "Omnibus:                     9001.632   Durbin-Watson:                   0.136\n",
       "Prob(Omnibus):                  0.000   Jarque-Bera (JB):            58962.554\n",
       "Skew:                           2.468   Prob(JB):                         0.00\n",
       "Kurtosis:                      10.553   Cond. No.                         189.\n",
       "==============================================================================\n",
       "\n",
       "Warnings:\n",
       "[1] Standard Errors assume that the covariance matrix of the errors is correctly specified.\n",
       "\"\"\""
      ]
     },
     "execution_count": 56,
     "metadata": {},
     "output_type": "execute_result"
    }
   ],
   "source": [
    "#droping one\n",
    "lm_stats = smf.ols(formula='y ~ weather[[1, 2, 3]]', data=bike_data).fit()\n",
    "lm_stats.summary()"
   ]
  },
  {
   "cell_type": "markdown",
   "metadata": {},
   "source": [
    "### What's the interpretation ? Do you want to keep all your dummy variables or drop one? Why? \n",
    "\n",
    "\n"
   ]
  },
  {
   "cell_type": "markdown",
   "metadata": {},
   "source": [
    "Answer:"
   ]
  },
  {
   "cell_type": "markdown",
   "metadata": {},
   "source": [
    "## Guided Practice: Combining non-correlated features into a better model (15 mins)"
   ]
  },
  {
   "cell_type": "code",
   "execution_count": 57,
   "metadata": {
    "collapsed": false
   },
   "outputs": [
    {
     "data": {
      "text/plain": [
       "instant         int64\n",
       "dteday         object\n",
       "season          int64\n",
       "yr              int64\n",
       "mnth            int64\n",
       "hr              int64\n",
       "holiday         int64\n",
       "weekday         int64\n",
       "workingday      int64\n",
       "weathersit      int64\n",
       "temp          float64\n",
       "atemp         float64\n",
       "hum           float64\n",
       "windspeed     float64\n",
       "casual          int64\n",
       "registered      int64\n",
       "cnt             int64\n",
       "dtype: object"
      ]
     },
     "execution_count": 57,
     "metadata": {},
     "output_type": "execute_result"
    }
   ],
   "source": [
    "bike_data.dtypes"
   ]
  },
  {
   "cell_type": "markdown",
   "metadata": {},
   "source": [
    "## With a partner, complete this code together and visualize the correlations of all the numerical features built into the data set.\n",
    "\n",
    "We want to:\n",
    "\n",
    "- Add the three significant weather situations into our current model.\n",
    "- Find two more features that are not correlated with current features, but could be strong indicators for predicting guest riders."
   ]
  },
  {
   "cell_type": "code",
   "execution_count": 58,
   "metadata": {
    "collapsed": false
   },
   "outputs": [
    {
     "ename": "SyntaxError",
     "evalue": "invalid syntax (<ipython-input-58-97ddf3a04cab>, line 6)",
     "output_type": "error",
     "traceback": [
      "\u001b[0;36m  File \u001b[0;32m\"<ipython-input-58-97ddf3a04cab>\"\u001b[0;36m, line \u001b[0;32m6\u001b[0m\n\u001b[0;31m    correlations = # what are we getting the correlations of?\u001b[0m\n\u001b[0m                                                             ^\u001b[0m\n\u001b[0;31mSyntaxError\u001b[0m\u001b[0;31m:\u001b[0m invalid syntax\n"
     ]
    }
   ],
   "source": [
    "#starter \n",
    "lm = linear_model.LinearRegression()\n",
    "bikemodel_data = bike_data.join() # add in the three weather situations\n",
    "\n",
    "cmap = sns.diverging_palette(220, 10, as_cmap=True)\n",
    "correlations = # what are we getting the correlations of?\n",
    "print correlations\n",
    "print sns.heatmap(correlations, cmap=cmap)\n",
    "\n",
    "columns_to_keep = [] #[which_variables?]\n",
    "final_feature_set = bikemodel_data[columns_to_keep]\n",
    "\n",
    "get_linear_model_metrics(final_feature_set, y, lm)"
   ]
  },
  {
   "cell_type": "code",
   "execution_count": null,
   "metadata": {
    "collapsed": true
   },
   "outputs": [],
   "source": [
    "#sklearn\n",
    "final_feature_set = bikemodel_data[columns_to_keep]\n",
    "\n",
    "get_linear_model_metrics(final_feature_set, np.log10(y+1), lm)"
   ]
  },
  {
   "cell_type": "code",
   "execution_count": null,
   "metadata": {
    "collapsed": true
   },
   "outputs": [],
   "source": [
    "#Stats models\n",
    "log_y = np.log10(y+1)\n",
    "lm = smf.ols(formula=' log_y ~ temp + hum + windspeed + weather_1 + weather_2 + weather_3 + holiday + hour_1 + hour_2 + hour_3 + hour_4 + hour_5 + hour_6 + hour_7 + hour_8 + hour_9 + hour_10 + hour_11 + hour_12 + hour_13 + hour_14 + hour_15 + hour_16 + hour_18 + hour_19 + hour_20 + hour_21 + hour_22 + hour_23', data=bikemodel_data).fit()\n",
    "#print the full summary\n",
    "lm.summary()"
   ]
  },
  {
   "cell_type": "markdown",
   "metadata": {},
   "source": [
    "## Independent Practice: Building models for other y variables (25 minutes)\n",
    "\n",
    "We've completely a model together that explains casual guest riders. Now it's your turn to build another model, using a different y variable: registered riders.\n",
    "\n",
    "#### Pay attention to:\n",
    "\n",
    "* the distribution of riders (should we rescale the data?)  \n",
    "* checking correlations with variables and registered riders  \n",
    "* having a feature space (our matrix) with low multicollinearity  \n",
    "* model complexity vs explanation of variance: at what point do features in a model stop improving r-squared?  \n",
    "* the linear assumption -- given all feature values being 0, should we have no ridership? negative ridership? positive ridership?\n",
    "\n",
    "#### Bonus\n",
    "\n",
    "* Which variables would make sense to dummy (because they are categorical, not continuous)?  \n",
    "* What features might explain ridership but aren't included in the data set? \n",
    "* Is there a way to build these using pandas and the features available?\n",
    "* Outcomes If your model at least improves upon the original model and the explanatory effects (coefficients) make sense, consider this a complete task. \n",
    "\n",
    "### If your model has an r-squared above .4, this a relatively effective model for the data available. Kudos!"
   ]
  },
  {
   "cell_type": "code",
   "execution_count": null,
   "metadata": {
    "collapsed": true
   },
   "outputs": [],
   "source": []
  }
 ],
 "metadata": {
  "anaconda-cloud": {},
  "kernelspec": {
   "display_name": "Python [Root]",
   "language": "python",
   "name": "Python [Root]"
  },
  "language_info": {
   "codemirror_mode": {
    "name": "ipython",
    "version": 2
   },
   "file_extension": ".py",
   "mimetype": "text/x-python",
   "name": "python",
   "nbconvert_exporter": "python",
   "pygments_lexer": "ipython2",
   "version": "2.7.12"
  }
 },
 "nbformat": 4,
 "nbformat_minor": 0
}
